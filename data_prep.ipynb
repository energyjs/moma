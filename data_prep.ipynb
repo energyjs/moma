{
 "cells": [
  {
   "cell_type": "markdown",
   "metadata": {},
   "source": [
    "### Strategy\n",
    "\n",
    "The goal of this file is to join the **artists.csv** and **artworks.csv** datasets into one cohesive larger dataset that can be used for further analysis.\n",
    "\n",
    "#### Notebook input: \n",
    "This notebook will read in the following:\n",
    "* \"data/lastnames.json\"\n",
    "* \"data/names/\"\n",
    "* \"data/artists.csv\"\n",
    "* \"data/artworks.csv\"\n",
    "\n",
    "#### Notebook output:\n",
    "This notebook will use the above four files to produce a dataframe stored as a csv, **data/merged.csv** \n",
    "\n",
    "---\n",
    "\n",
    "We have two auxiliary datasets, a file titled **lastnames.json** and a folder titled **names/**.\n",
    "\n",
    "The **lastnames.json** file that maps lastnames to probabilty of different ethnicities. \n",
    "\n",
    "The **names/** folder has a set of txt files, each repesenting most popular first names per year. The txt files when combined has a mapping of name to gender.\n",
    "\n",
    "We will use these auxiliary datasets to augment the **artist.csv** file before joining it with the **artworks.csv** file.\n",
    "\n",
    "---\n",
    "\n",
    "Steps:\n",
    "1. Produce consumable firstname_gender_df from **data/names/** folder\n",
    "2. Produce consumable lastname_race_df from **data/lastnames.json** file\n",
    "3. Produce consumable artists_df from **data/artists.csv** file\n",
    "4. Join firstname_gender_df & lastname_race_df with artists_df\n",
    "4. Produce consumable artworks_df from **data/artworks.csv** file\n",
    "5. Join artists_df with artworks_df and write the join result as **data/merged.csv**"
   ]
  },
  {
   "cell_type": "code",
   "execution_count": 1,
   "metadata": {
    "collapsed": true
   },
   "outputs": [],
   "source": [
    "import pandas as pd\n",
    "pd.options.mode.chained_assignment = None  # default='warn'\n",
    "import numpy as np\n",
    "import matplotlib.pyplot as plt\n",
    "%matplotlib inline"
   ]
  },
  {
   "cell_type": "markdown",
   "metadata": {},
   "source": [
    "### ETL for \"names/\" folder"
   ]
  },
  {
   "cell_type": "markdown",
   "metadata": {},
   "source": [
    "Since the MoMA artist is missing a lot of data on whether an artist is M/F, we will use firstnames to judge whether or not an artist is **M** or **F**.\n",
    "\n",
    "NOTE: Due to the unfortunate nature of our available dataset, gender is limited to binary."
   ]
  },
  {
   "cell_type": "code",
   "execution_count": 2,
   "metadata": {
    "collapsed": true
   },
   "outputs": [],
   "source": [
    "import os\n",
    "import glob"
   ]
  },
  {
   "cell_type": "code",
   "execution_count": 3,
   "metadata": {},
   "outputs": [
    {
     "data": {
      "text/plain": [
       "(1891894, 3)"
      ]
     },
     "execution_count": 3,
     "metadata": {},
     "output_type": "execute_result"
    }
   ],
   "source": [
    "all_files = glob.glob(os.path.join(\"./data/names\", \"*.txt\"))\n",
    "names = pd.DataFrame()\n",
    "for f in all_files:\n",
    "    names = pd.concat([pd.read_csv(f, names=['firstname', 'gender', 'count']), names], ignore_index=False)\n",
    "names.shape"
   ]
  },
  {
   "cell_type": "code",
   "execution_count": 4,
   "metadata": {},
   "outputs": [
    {
     "data": {
      "text/html": [
       "<div>\n",
       "<table border=\"1\" class=\"dataframe\">\n",
       "  <thead>\n",
       "    <tr style=\"text-align: right;\">\n",
       "      <th></th>\n",
       "      <th>firstname</th>\n",
       "      <th>gender</th>\n",
       "      <th>count</th>\n",
       "    </tr>\n",
       "  </thead>\n",
       "  <tbody>\n",
       "    <tr>\n",
       "      <th>0</th>\n",
       "      <td>Lisa</td>\n",
       "      <td>F</td>\n",
       "      <td>46081</td>\n",
       "    </tr>\n",
       "    <tr>\n",
       "      <th>1</th>\n",
       "      <td>Mary</td>\n",
       "      <td>F</td>\n",
       "      <td>43490</td>\n",
       "    </tr>\n",
       "    <tr>\n",
       "      <th>2</th>\n",
       "      <td>Susan</td>\n",
       "      <td>F</td>\n",
       "      <td>35743</td>\n",
       "    </tr>\n",
       "    <tr>\n",
       "      <th>3</th>\n",
       "      <td>Karen</td>\n",
       "      <td>F</td>\n",
       "      <td>35186</td>\n",
       "    </tr>\n",
       "    <tr>\n",
       "      <th>4</th>\n",
       "      <td>Linda</td>\n",
       "      <td>F</td>\n",
       "      <td>31462</td>\n",
       "    </tr>\n",
       "  </tbody>\n",
       "</table>\n",
       "</div>"
      ],
      "text/plain": [
       "  firstname gender  count\n",
       "0      Lisa      F  46081\n",
       "1      Mary      F  43490\n",
       "2     Susan      F  35743\n",
       "3     Karen      F  35186\n",
       "4     Linda      F  31462"
      ]
     },
     "execution_count": 4,
     "metadata": {},
     "output_type": "execute_result"
    }
   ],
   "source": [
    "names.head()"
   ]
  },
  {
   "cell_type": "code",
   "execution_count": 5,
   "metadata": {
    "collapsed": true
   },
   "outputs": [],
   "source": [
    "grouped = names.groupby(['firstname', 'gender'])[['count']].sum().reset_index()"
   ]
  },
  {
   "cell_type": "code",
   "execution_count": 6,
   "metadata": {},
   "outputs": [
    {
     "data": {
      "text/plain": [
       "(106695, 3)"
      ]
     },
     "execution_count": 6,
     "metadata": {},
     "output_type": "execute_result"
    }
   ],
   "source": [
    "grouped_names = grouped.sort_values('count', ascending=False)\n",
    "grouped_names.shape"
   ]
  },
  {
   "cell_type": "code",
   "execution_count": 7,
   "metadata": {
    "collapsed": true
   },
   "outputs": [],
   "source": [
    "grouped_names['firstname'] = grouped_names['firstname'].str.lower()\n",
    "grouped_names['gender'] = grouped_names['gender'].str.lower()"
   ]
  },
  {
   "cell_type": "code",
   "execution_count": 8,
   "metadata": {},
   "outputs": [
    {
     "data": {
      "text/html": [
       "<div>\n",
       "<table border=\"1\" class=\"dataframe\">\n",
       "  <thead>\n",
       "    <tr style=\"text-align: right;\">\n",
       "      <th></th>\n",
       "      <th>firstname</th>\n",
       "      <th>gender</th>\n",
       "      <th>count</th>\n",
       "    </tr>\n",
       "  </thead>\n",
       "  <tbody>\n",
       "    <tr>\n",
       "      <th>42565</th>\n",
       "      <td>james</td>\n",
       "      <td>m</td>\n",
       "      <td>5136026</td>\n",
       "    </tr>\n",
       "    <tr>\n",
       "      <th>47308</th>\n",
       "      <td>john</td>\n",
       "      <td>m</td>\n",
       "      <td>5105834</td>\n",
       "    </tr>\n",
       "    <tr>\n",
       "      <th>82496</th>\n",
       "      <td>robert</td>\n",
       "      <td>m</td>\n",
       "      <td>4809176</td>\n",
       "    </tr>\n",
       "    <tr>\n",
       "      <th>69398</th>\n",
       "      <td>michael</td>\n",
       "      <td>m</td>\n",
       "      <td>4338144</td>\n",
       "    </tr>\n",
       "    <tr>\n",
       "      <th>67099</th>\n",
       "      <td>mary</td>\n",
       "      <td>f</td>\n",
       "      <td>4120692</td>\n",
       "    </tr>\n",
       "  </tbody>\n",
       "</table>\n",
       "</div>"
      ],
      "text/plain": [
       "      firstname gender    count\n",
       "42565     james      m  5136026\n",
       "47308      john      m  5105834\n",
       "82496    robert      m  4809176\n",
       "69398   michael      m  4338144\n",
       "67099      mary      f  4120692"
      ]
     },
     "execution_count": 8,
     "metadata": {},
     "output_type": "execute_result"
    }
   ],
   "source": [
    "grouped_names.head()"
   ]
  },
  {
   "cell_type": "markdown",
   "metadata": {},
   "source": [
    "If there are duplicate names, drop the one with fewer count:"
   ]
  },
  {
   "cell_type": "code",
   "execution_count": 9,
   "metadata": {},
   "outputs": [
    {
     "data": {
      "text/html": [
       "<div>\n",
       "<table border=\"1\" class=\"dataframe\">\n",
       "  <thead>\n",
       "    <tr style=\"text-align: right;\">\n",
       "      <th></th>\n",
       "      <th>firstname</th>\n",
       "      <th>gender</th>\n",
       "      <th>count</th>\n",
       "    </tr>\n",
       "  </thead>\n",
       "  <tbody>\n",
       "    <tr>\n",
       "      <th>67099</th>\n",
       "      <td>mary</td>\n",
       "      <td>f</td>\n",
       "      <td>4120692</td>\n",
       "    </tr>\n",
       "    <tr>\n",
       "      <th>67100</th>\n",
       "      <td>mary</td>\n",
       "      <td>m</td>\n",
       "      <td>15159</td>\n",
       "    </tr>\n",
       "  </tbody>\n",
       "</table>\n",
       "</div>"
      ],
      "text/plain": [
       "      firstname gender    count\n",
       "67099      mary      f  4120692\n",
       "67100      mary      m    15159"
      ]
     },
     "execution_count": 9,
     "metadata": {},
     "output_type": "execute_result"
    }
   ],
   "source": [
    "# example: drop row where 'mary' is a Male\n",
    "grouped_names[grouped_names['firstname']=='mary'].head()"
   ]
  },
  {
   "cell_type": "code",
   "execution_count": 10,
   "metadata": {},
   "outputs": [
    {
     "data": {
      "text/plain": [
       "(96174, 3)"
      ]
     },
     "execution_count": 10,
     "metadata": {},
     "output_type": "execute_result"
    }
   ],
   "source": [
    "grouped_names = grouped_names.drop_duplicates(subset='firstname', keep='first')\n",
    "grouped_names.shape"
   ]
  },
  {
   "cell_type": "code",
   "execution_count": 11,
   "metadata": {
    "collapsed": true
   },
   "outputs": [],
   "source": [
    "firstname_gender_df = \\\n",
    "    grouped_names.drop(['count'],axis=1) \\\n",
    "    .reset_index(drop=True)"
   ]
  },
  {
   "cell_type": "code",
   "execution_count": 12,
   "metadata": {},
   "outputs": [
    {
     "data": {
      "text/html": [
       "<div>\n",
       "<table border=\"1\" class=\"dataframe\">\n",
       "  <thead>\n",
       "    <tr style=\"text-align: right;\">\n",
       "      <th></th>\n",
       "      <th>firstname</th>\n",
       "      <th>gender</th>\n",
       "    </tr>\n",
       "  </thead>\n",
       "  <tbody>\n",
       "    <tr>\n",
       "      <th>0</th>\n",
       "      <td>james</td>\n",
       "      <td>m</td>\n",
       "    </tr>\n",
       "    <tr>\n",
       "      <th>1</th>\n",
       "      <td>john</td>\n",
       "      <td>m</td>\n",
       "    </tr>\n",
       "    <tr>\n",
       "      <th>2</th>\n",
       "      <td>robert</td>\n",
       "      <td>m</td>\n",
       "    </tr>\n",
       "    <tr>\n",
       "      <th>3</th>\n",
       "      <td>michael</td>\n",
       "      <td>m</td>\n",
       "    </tr>\n",
       "    <tr>\n",
       "      <th>4</th>\n",
       "      <td>mary</td>\n",
       "      <td>f</td>\n",
       "    </tr>\n",
       "  </tbody>\n",
       "</table>\n",
       "</div>"
      ],
      "text/plain": [
       "  firstname gender\n",
       "0     james      m\n",
       "1      john      m\n",
       "2    robert      m\n",
       "3   michael      m\n",
       "4      mary      f"
      ]
     },
     "execution_count": 12,
     "metadata": {},
     "output_type": "execute_result"
    }
   ],
   "source": [
    "firstname_gender_df.head()"
   ]
  },
  {
   "cell_type": "markdown",
   "metadata": {},
   "source": [
    "### ETL for \"lastnames_2010.json\"\n"
   ]
  },
  {
   "cell_type": "markdown",
   "metadata": {},
   "source": [
    "We'll be using the lastname.csv file to associate artists to an ethnicity."
   ]
  },
  {
   "cell_type": "code",
   "execution_count": 13,
   "metadata": {
    "collapsed": true
   },
   "outputs": [],
   "source": [
    "raw_lastnames = pd.read_json('data/lastnames.json')"
   ]
  },
  {
   "cell_type": "code",
   "execution_count": 14,
   "metadata": {},
   "outputs": [
    {
     "name": "stdout",
     "output_type": "stream",
     "text": [
      "(98915, 9)\n"
     ]
    },
    {
     "data": {
      "text/html": [
       "<div>\n",
       "<table border=\"1\" class=\"dataframe\">\n",
       "  <thead>\n",
       "    <tr style=\"text-align: right;\">\n",
       "      <th></th>\n",
       "      <th>0</th>\n",
       "      <th>1</th>\n",
       "      <th>2</th>\n",
       "      <th>3</th>\n",
       "      <th>4</th>\n",
       "      <th>5</th>\n",
       "      <th>6</th>\n",
       "      <th>7</th>\n",
       "      <th>8</th>\n",
       "    </tr>\n",
       "  </thead>\n",
       "  <tbody>\n",
       "    <tr>\n",
       "      <th>0</th>\n",
       "      <td>NAME</td>\n",
       "      <td>RANK</td>\n",
       "      <td>COUNT</td>\n",
       "      <td>PCTWHITE</td>\n",
       "      <td>PCTAPI</td>\n",
       "      <td>PCT2PRACE</td>\n",
       "      <td>PCTAIAN</td>\n",
       "      <td>PCTBLACK</td>\n",
       "      <td>PCTHISPANIC</td>\n",
       "    </tr>\n",
       "    <tr>\n",
       "      <th>1</th>\n",
       "      <td>SMITH</td>\n",
       "      <td>1</td>\n",
       "      <td>2442977</td>\n",
       "      <td>70.9</td>\n",
       "      <td>0.5</td>\n",
       "      <td>2.19</td>\n",
       "      <td>0.89</td>\n",
       "      <td>23.11</td>\n",
       "      <td>2.4</td>\n",
       "    </tr>\n",
       "    <tr>\n",
       "      <th>2</th>\n",
       "      <td>JOHNSON</td>\n",
       "      <td>2</td>\n",
       "      <td>1932812</td>\n",
       "      <td>58.97</td>\n",
       "      <td>0.54</td>\n",
       "      <td>2.56</td>\n",
       "      <td>0.94</td>\n",
       "      <td>34.63</td>\n",
       "      <td>2.36</td>\n",
       "    </tr>\n",
       "    <tr>\n",
       "      <th>3</th>\n",
       "      <td>WILLIAMS</td>\n",
       "      <td>3</td>\n",
       "      <td>1625252</td>\n",
       "      <td>45.75</td>\n",
       "      <td>0.46</td>\n",
       "      <td>2.81</td>\n",
       "      <td>0.82</td>\n",
       "      <td>47.68</td>\n",
       "      <td>2.49</td>\n",
       "    </tr>\n",
       "    <tr>\n",
       "      <th>4</th>\n",
       "      <td>BROWN</td>\n",
       "      <td>4</td>\n",
       "      <td>1437026</td>\n",
       "      <td>57.95</td>\n",
       "      <td>0.51</td>\n",
       "      <td>2.55</td>\n",
       "      <td>0.87</td>\n",
       "      <td>35.6</td>\n",
       "      <td>2.52</td>\n",
       "    </tr>\n",
       "  </tbody>\n",
       "</table>\n",
       "</div>"
      ],
      "text/plain": [
       "          0     1        2         3       4          5        6         7  \\\n",
       "0      NAME  RANK    COUNT  PCTWHITE  PCTAPI  PCT2PRACE  PCTAIAN  PCTBLACK   \n",
       "1     SMITH     1  2442977      70.9     0.5       2.19     0.89     23.11   \n",
       "2   JOHNSON     2  1932812     58.97    0.54       2.56     0.94     34.63   \n",
       "3  WILLIAMS     3  1625252     45.75    0.46       2.81     0.82     47.68   \n",
       "4     BROWN     4  1437026     57.95    0.51       2.55     0.87      35.6   \n",
       "\n",
       "             8  \n",
       "0  PCTHISPANIC  \n",
       "1          2.4  \n",
       "2         2.36  \n",
       "3         2.49  \n",
       "4         2.52  "
      ]
     },
     "execution_count": 14,
     "metadata": {},
     "output_type": "execute_result"
    }
   ],
   "source": [
    "print(raw_lastnames.shape)\n",
    "raw_lastnames.head()"
   ]
  },
  {
   "cell_type": "code",
   "execution_count": 15,
   "metadata": {
    "collapsed": true
   },
   "outputs": [],
   "source": [
    "# actual column headers are on row 1\n",
    "columns = raw_lastnames.iloc[0]"
   ]
  },
  {
   "cell_type": "code",
   "execution_count": 16,
   "metadata": {
    "collapsed": true
   },
   "outputs": [],
   "source": [
    "# skip first and last row\n",
    "lastnames = raw_lastnames.iloc[1:-1]"
   ]
  },
  {
   "cell_type": "markdown",
   "metadata": {},
   "source": [
    "For convinience, lets rename our columns in the following way:\n",
    "\n",
    "| Original | Updated | Full Definition (by Census Data API) |\n",
    "| :------- | :------ | :-------------- |\n",
    "| NAME | lastname | Lastname/Surname |\n",
    "| RANK | rank | National Rank in popularity |\n",
    "| COUNT | count | Frequency: number of occurences nationally |\n",
    "| PCTWHITE | white | Percent Non-Hispanic White Alone |\n",
    "| PCTAPI | asian | Percent Non-Hispanic Asian and Native Hawaiian and Other Pacific Islander Alone |\n",
    "| PCT2PRACE | mix | Percent Non-Hispanic Two or More Races |\n",
    "| PCTAIAN | aian | Percent Non-Hispanic American Indian and Alaska Native Alone |\n",
    "| PCTBLACK | black | Percent Non-Hispanic Black or African American Alone |\n",
    "| PCTHISPANIC | hispanic | Percent Hispanic or Latino origin |"
   ]
  },
  {
   "cell_type": "code",
   "execution_count": 17,
   "metadata": {
    "collapsed": true
   },
   "outputs": [],
   "source": [
    "lastnames.columns = ['lastname', 'rank', 'count', 'white', 'asian', 'mix', 'aian', 'black', 'hispanic']"
   ]
  },
  {
   "cell_type": "code",
   "execution_count": 18,
   "metadata": {},
   "outputs": [
    {
     "data": {
      "text/html": [
       "<div>\n",
       "<table border=\"1\" class=\"dataframe\">\n",
       "  <thead>\n",
       "    <tr style=\"text-align: right;\">\n",
       "      <th></th>\n",
       "      <th>lastname</th>\n",
       "      <th>rank</th>\n",
       "      <th>count</th>\n",
       "      <th>white</th>\n",
       "      <th>asian</th>\n",
       "      <th>mix</th>\n",
       "      <th>aian</th>\n",
       "      <th>black</th>\n",
       "      <th>hispanic</th>\n",
       "    </tr>\n",
       "  </thead>\n",
       "  <tbody>\n",
       "    <tr>\n",
       "      <th>98909</th>\n",
       "      <td>ERDRICH</td>\n",
       "      <td>160975</td>\n",
       "      <td>100</td>\n",
       "      <td>74</td>\n",
       "      <td>0</td>\n",
       "      <td>5</td>\n",
       "      <td>12</td>\n",
       "      <td>0</td>\n",
       "      <td>9</td>\n",
       "    </tr>\n",
       "    <tr>\n",
       "      <th>98910</th>\n",
       "      <td>EGUES</td>\n",
       "      <td>160975</td>\n",
       "      <td>100</td>\n",
       "      <td>6</td>\n",
       "      <td>(S)</td>\n",
       "      <td>0</td>\n",
       "      <td>0</td>\n",
       "      <td>(S)</td>\n",
       "      <td>93</td>\n",
       "    </tr>\n",
       "    <tr>\n",
       "      <th>98911</th>\n",
       "      <td>DOTAN</td>\n",
       "      <td>160975</td>\n",
       "      <td>100</td>\n",
       "      <td>88</td>\n",
       "      <td>(S)</td>\n",
       "      <td>(S)</td>\n",
       "      <td>0</td>\n",
       "      <td>0</td>\n",
       "      <td>8</td>\n",
       "    </tr>\n",
       "    <tr>\n",
       "      <th>98912</th>\n",
       "      <td>DIONIZIO</td>\n",
       "      <td>160975</td>\n",
       "      <td>100</td>\n",
       "      <td>92</td>\n",
       "      <td>0</td>\n",
       "      <td>(S)</td>\n",
       "      <td>0</td>\n",
       "      <td>(S)</td>\n",
       "      <td>7</td>\n",
       "    </tr>\n",
       "    <tr>\n",
       "      <th>98913</th>\n",
       "      <td>DONLEA</td>\n",
       "      <td>160975</td>\n",
       "      <td>100</td>\n",
       "      <td>94</td>\n",
       "      <td>0</td>\n",
       "      <td>0</td>\n",
       "      <td>0</td>\n",
       "      <td>0</td>\n",
       "      <td>6</td>\n",
       "    </tr>\n",
       "  </tbody>\n",
       "</table>\n",
       "</div>"
      ],
      "text/plain": [
       "       lastname    rank count white asian  mix aian black hispanic\n",
       "98909   ERDRICH  160975   100    74     0    5   12     0        9\n",
       "98910     EGUES  160975   100     6   (S)    0    0   (S)       93\n",
       "98911     DOTAN  160975   100    88   (S)  (S)    0     0        8\n",
       "98912  DIONIZIO  160975   100    92     0  (S)    0   (S)        7\n",
       "98913    DONLEA  160975   100    94     0    0    0     0        6"
      ]
     },
     "execution_count": 18,
     "metadata": {},
     "output_type": "execute_result"
    }
   ],
   "source": [
    "lastnames.tail()"
   ]
  },
  {
   "cell_type": "markdown",
   "metadata": {},
   "source": [
    "Lets reshape the dataframe to be a mapping of last name to most probably ethnicity"
   ]
  },
  {
   "cell_type": "code",
   "execution_count": 19,
   "metadata": {
    "collapsed": true
   },
   "outputs": [],
   "source": [
    "def getMostLikelyRace(row):\n",
    "    races = ['white', 'black', 'asian', 'aian', 'mix', 'hispanic']\n",
    "    highest_probability = 0\n",
    "    most_likely_race = None\n",
    "    \n",
    "    for race in races:\n",
    "        try:\n",
    "            row[race] = float(row[race])\n",
    "        except ValueError:\n",
    "            row[race] = 0\n",
    "            \n",
    "        if row[race] > highest_probability:\n",
    "            highest_probability = row[race]\n",
    "            most_likely_race = race\n",
    "            \n",
    "    return most_likely_race\n",
    "    \n",
    "lastnames['race'] = lastnames.apply(getMostLikelyRace, axis=1)"
   ]
  },
  {
   "cell_type": "code",
   "execution_count": 20,
   "metadata": {
    "collapsed": true
   },
   "outputs": [],
   "source": [
    "# make lastnames lowercase\n",
    "lastnames['lastname'] = lastnames['lastname'].str.lower()"
   ]
  },
  {
   "cell_type": "code",
   "execution_count": 21,
   "metadata": {
    "collapsed": true
   },
   "outputs": [],
   "source": [
    "lastname_race_df = lastnames[['lastname', 'race']]"
   ]
  },
  {
   "cell_type": "code",
   "execution_count": 22,
   "metadata": {},
   "outputs": [
    {
     "data": {
      "text/html": [
       "<div>\n",
       "<table border=\"1\" class=\"dataframe\">\n",
       "  <thead>\n",
       "    <tr style=\"text-align: right;\">\n",
       "      <th></th>\n",
       "      <th>lastname</th>\n",
       "      <th>race</th>\n",
       "    </tr>\n",
       "  </thead>\n",
       "  <tbody>\n",
       "    <tr>\n",
       "      <th>1</th>\n",
       "      <td>smith</td>\n",
       "      <td>white</td>\n",
       "    </tr>\n",
       "    <tr>\n",
       "      <th>2</th>\n",
       "      <td>johnson</td>\n",
       "      <td>white</td>\n",
       "    </tr>\n",
       "    <tr>\n",
       "      <th>3</th>\n",
       "      <td>williams</td>\n",
       "      <td>black</td>\n",
       "    </tr>\n",
       "    <tr>\n",
       "      <th>4</th>\n",
       "      <td>brown</td>\n",
       "      <td>white</td>\n",
       "    </tr>\n",
       "    <tr>\n",
       "      <th>5</th>\n",
       "      <td>jones</td>\n",
       "      <td>white</td>\n",
       "    </tr>\n",
       "  </tbody>\n",
       "</table>\n",
       "</div>"
      ],
      "text/plain": [
       "   lastname   race\n",
       "1     smith  white\n",
       "2   johnson  white\n",
       "3  williams  black\n",
       "4     brown  white\n",
       "5     jones  white"
      ]
     },
     "execution_count": 22,
     "metadata": {},
     "output_type": "execute_result"
    }
   ],
   "source": [
    "lastname_race_df.head()"
   ]
  },
  {
   "cell_type": "markdown",
   "metadata": {},
   "source": [
    "### ETL for \"artists.csv\""
   ]
  },
  {
   "cell_type": "code",
   "execution_count": 23,
   "metadata": {},
   "outputs": [
    {
     "name": "stdout",
     "output_type": "stream",
     "text": [
      "(15091, 6)\n"
     ]
    },
    {
     "data": {
      "text/html": [
       "<div>\n",
       "<table border=\"1\" class=\"dataframe\">\n",
       "  <thead>\n",
       "    <tr style=\"text-align: right;\">\n",
       "      <th></th>\n",
       "      <th>artist_id</th>\n",
       "      <th>fullname</th>\n",
       "      <th>nationality</th>\n",
       "      <th>gender</th>\n",
       "      <th>birth_year</th>\n",
       "      <th>death_year</th>\n",
       "    </tr>\n",
       "  </thead>\n",
       "  <tbody>\n",
       "    <tr>\n",
       "      <th>0</th>\n",
       "      <td>1</td>\n",
       "      <td>Robert Arneson</td>\n",
       "      <td>American</td>\n",
       "      <td>Male</td>\n",
       "      <td>1930.0</td>\n",
       "      <td>1992.0</td>\n",
       "    </tr>\n",
       "    <tr>\n",
       "      <th>1</th>\n",
       "      <td>2</td>\n",
       "      <td>Doroteo Arnaiz</td>\n",
       "      <td>Spanish</td>\n",
       "      <td>Male</td>\n",
       "      <td>1936.0</td>\n",
       "      <td>NaN</td>\n",
       "    </tr>\n",
       "    <tr>\n",
       "      <th>2</th>\n",
       "      <td>3</td>\n",
       "      <td>Bill Arnold</td>\n",
       "      <td>American</td>\n",
       "      <td>Male</td>\n",
       "      <td>1941.0</td>\n",
       "      <td>NaN</td>\n",
       "    </tr>\n",
       "    <tr>\n",
       "      <th>3</th>\n",
       "      <td>4</td>\n",
       "      <td>Charles Arnoldi</td>\n",
       "      <td>American</td>\n",
       "      <td>Male</td>\n",
       "      <td>1946.0</td>\n",
       "      <td>NaN</td>\n",
       "    </tr>\n",
       "    <tr>\n",
       "      <th>4</th>\n",
       "      <td>5</td>\n",
       "      <td>Per Arnoldi</td>\n",
       "      <td>Danish</td>\n",
       "      <td>Male</td>\n",
       "      <td>1941.0</td>\n",
       "      <td>NaN</td>\n",
       "    </tr>\n",
       "    <tr>\n",
       "      <th>5</th>\n",
       "      <td>6</td>\n",
       "      <td>Danilo Aroldi</td>\n",
       "      <td>Italian</td>\n",
       "      <td>Male</td>\n",
       "      <td>1925.0</td>\n",
       "      <td>NaN</td>\n",
       "    </tr>\n",
       "    <tr>\n",
       "      <th>6</th>\n",
       "      <td>7</td>\n",
       "      <td>Bill Aron</td>\n",
       "      <td>American</td>\n",
       "      <td>Male</td>\n",
       "      <td>1941.0</td>\n",
       "      <td>NaN</td>\n",
       "    </tr>\n",
       "    <tr>\n",
       "      <th>7</th>\n",
       "      <td>9</td>\n",
       "      <td>David Aronson</td>\n",
       "      <td>American</td>\n",
       "      <td>Male</td>\n",
       "      <td>1923.0</td>\n",
       "      <td>NaN</td>\n",
       "    </tr>\n",
       "    <tr>\n",
       "      <th>8</th>\n",
       "      <td>10</td>\n",
       "      <td>Irene Aronson</td>\n",
       "      <td>American</td>\n",
       "      <td>Female</td>\n",
       "      <td>1918.0</td>\n",
       "      <td>NaN</td>\n",
       "    </tr>\n",
       "    <tr>\n",
       "      <th>9</th>\n",
       "      <td>11</td>\n",
       "      <td>Jean (Hans) Arp</td>\n",
       "      <td>French</td>\n",
       "      <td>Male</td>\n",
       "      <td>1886.0</td>\n",
       "      <td>1966.0</td>\n",
       "    </tr>\n",
       "  </tbody>\n",
       "</table>\n",
       "</div>"
      ],
      "text/plain": [
       "   artist_id         fullname nationality  gender  birth_year  death_year\n",
       "0          1   Robert Arneson    American    Male      1930.0      1992.0\n",
       "1          2   Doroteo Arnaiz     Spanish    Male      1936.0         NaN\n",
       "2          3      Bill Arnold    American    Male      1941.0         NaN\n",
       "3          4  Charles Arnoldi    American    Male      1946.0         NaN\n",
       "4          5      Per Arnoldi      Danish    Male      1941.0         NaN\n",
       "5          6    Danilo Aroldi     Italian    Male      1925.0         NaN\n",
       "6          7        Bill Aron    American    Male      1941.0         NaN\n",
       "7          9    David Aronson    American    Male      1923.0         NaN\n",
       "8         10    Irene Aronson    American  Female      1918.0         NaN\n",
       "9         11  Jean (Hans) Arp      French    Male      1886.0      1966.0"
      ]
     },
     "execution_count": 23,
     "metadata": {},
     "output_type": "execute_result"
    }
   ],
   "source": [
    "artists = pd.read_csv(\"data/artists.csv\")\n",
    "artists.columns = ['artist_id', 'fullname', 'nationality', 'gender', 'birth_year', 'death_year']\n",
    "\n",
    "print(artists.shape)\n",
    "artists.head(10)"
   ]
  },
  {
   "cell_type": "code",
   "execution_count": 24,
   "metadata": {
    "collapsed": true
   },
   "outputs": [],
   "source": [
    "def m_or_f(gender):\n",
    "    if gender == \"Male\" or gender == \"male\":\n",
    "        return 'm'\n",
    "    elif gender == \"Female\" or gender == \"female\":\n",
    "        return 'f'\n",
    "    else:\n",
    "        return gender\n",
    "    \n",
    "artists['gender'] = artists['gender'].map(m_or_f)"
   ]
  },
  {
   "cell_type": "code",
   "execution_count": 25,
   "metadata": {
    "collapsed": true
   },
   "outputs": [],
   "source": [
    "# lower case columns\n",
    "artists['fullname'] = artists['fullname'].str.lower()\n",
    "artists['gender'] = artists['gender'].str.lower()\n",
    "artists['nationality'] = artists['nationality'].str.lower()"
   ]
  },
  {
   "cell_type": "code",
   "execution_count": 26,
   "metadata": {
    "collapsed": true
   },
   "outputs": [],
   "source": [
    "artists_df = artists"
   ]
  },
  {
   "cell_type": "code",
   "execution_count": 27,
   "metadata": {},
   "outputs": [
    {
     "data": {
      "text/html": [
       "<div>\n",
       "<table border=\"1\" class=\"dataframe\">\n",
       "  <thead>\n",
       "    <tr style=\"text-align: right;\">\n",
       "      <th></th>\n",
       "      <th>artist_id</th>\n",
       "      <th>fullname</th>\n",
       "      <th>nationality</th>\n",
       "      <th>gender</th>\n",
       "      <th>birth_year</th>\n",
       "      <th>death_year</th>\n",
       "    </tr>\n",
       "  </thead>\n",
       "  <tbody>\n",
       "    <tr>\n",
       "      <th>0</th>\n",
       "      <td>1</td>\n",
       "      <td>robert arneson</td>\n",
       "      <td>american</td>\n",
       "      <td>m</td>\n",
       "      <td>1930.0</td>\n",
       "      <td>1992.0</td>\n",
       "    </tr>\n",
       "    <tr>\n",
       "      <th>1</th>\n",
       "      <td>2</td>\n",
       "      <td>doroteo arnaiz</td>\n",
       "      <td>spanish</td>\n",
       "      <td>m</td>\n",
       "      <td>1936.0</td>\n",
       "      <td>NaN</td>\n",
       "    </tr>\n",
       "    <tr>\n",
       "      <th>2</th>\n",
       "      <td>3</td>\n",
       "      <td>bill arnold</td>\n",
       "      <td>american</td>\n",
       "      <td>m</td>\n",
       "      <td>1941.0</td>\n",
       "      <td>NaN</td>\n",
       "    </tr>\n",
       "    <tr>\n",
       "      <th>3</th>\n",
       "      <td>4</td>\n",
       "      <td>charles arnoldi</td>\n",
       "      <td>american</td>\n",
       "      <td>m</td>\n",
       "      <td>1946.0</td>\n",
       "      <td>NaN</td>\n",
       "    </tr>\n",
       "    <tr>\n",
       "      <th>4</th>\n",
       "      <td>5</td>\n",
       "      <td>per arnoldi</td>\n",
       "      <td>danish</td>\n",
       "      <td>m</td>\n",
       "      <td>1941.0</td>\n",
       "      <td>NaN</td>\n",
       "    </tr>\n",
       "  </tbody>\n",
       "</table>\n",
       "</div>"
      ],
      "text/plain": [
       "   artist_id         fullname nationality gender  birth_year  death_year\n",
       "0          1   robert arneson    american      m      1930.0      1992.0\n",
       "1          2   doroteo arnaiz     spanish      m      1936.0         NaN\n",
       "2          3      bill arnold    american      m      1941.0         NaN\n",
       "3          4  charles arnoldi    american      m      1946.0         NaN\n",
       "4          5      per arnoldi      danish      m      1941.0         NaN"
      ]
     },
     "execution_count": 27,
     "metadata": {},
     "output_type": "execute_result"
    }
   ],
   "source": [
    "artists_df.head()"
   ]
  },
  {
   "cell_type": "markdown",
   "metadata": {},
   "source": [
    "### Join artists_df with lastname_race_df"
   ]
  },
  {
   "cell_type": "code",
   "execution_count": 28,
   "metadata": {
    "collapsed": true
   },
   "outputs": [],
   "source": [
    "# set last name to index for quick look up\n",
    "lastname_race_df = lastname_race_df.set_index('lastname', drop=True)"
   ]
  },
  {
   "cell_type": "code",
   "execution_count": 29,
   "metadata": {
    "collapsed": true
   },
   "outputs": [],
   "source": [
    "def merge_lastname_race_df(name):\n",
    "    if name is None or len(name) <= 1:\n",
    "        return None\n",
    "\n",
    "    split_array = name.rsplit(' ', 1)\n",
    "    last = split_array[len(split_array)-1]\n",
    "    remaining = None\n",
    "\n",
    "    if len(split_array) > 1:\n",
    "        remaining = split_array[0]\n",
    "\n",
    "    try:\n",
    "        return lastname_race_df.loc[last].race\n",
    "    except Exception as e:\n",
    "        return merge_lastname_race_df(remaining)\n",
    "\n",
    "artists_df['race'] = artists_df['fullname'].apply(merge_lastname_race_df)"
   ]
  },
  {
   "cell_type": "code",
   "execution_count": 30,
   "metadata": {},
   "outputs": [
    {
     "data": {
      "text/html": [
       "<div>\n",
       "<table border=\"1\" class=\"dataframe\">\n",
       "  <thead>\n",
       "    <tr style=\"text-align: right;\">\n",
       "      <th></th>\n",
       "      <th>artist_id</th>\n",
       "      <th>fullname</th>\n",
       "      <th>nationality</th>\n",
       "      <th>gender</th>\n",
       "      <th>birth_year</th>\n",
       "      <th>death_year</th>\n",
       "      <th>race</th>\n",
       "    </tr>\n",
       "  </thead>\n",
       "  <tbody>\n",
       "    <tr>\n",
       "      <th>0</th>\n",
       "      <td>1</td>\n",
       "      <td>robert arneson</td>\n",
       "      <td>american</td>\n",
       "      <td>m</td>\n",
       "      <td>1930.0</td>\n",
       "      <td>1992.0</td>\n",
       "      <td>white</td>\n",
       "    </tr>\n",
       "    <tr>\n",
       "      <th>1</th>\n",
       "      <td>2</td>\n",
       "      <td>doroteo arnaiz</td>\n",
       "      <td>spanish</td>\n",
       "      <td>m</td>\n",
       "      <td>1936.0</td>\n",
       "      <td>NaN</td>\n",
       "      <td>hispanic</td>\n",
       "    </tr>\n",
       "    <tr>\n",
       "      <th>2</th>\n",
       "      <td>3</td>\n",
       "      <td>bill arnold</td>\n",
       "      <td>american</td>\n",
       "      <td>m</td>\n",
       "      <td>1941.0</td>\n",
       "      <td>NaN</td>\n",
       "      <td>white</td>\n",
       "    </tr>\n",
       "    <tr>\n",
       "      <th>3</th>\n",
       "      <td>4</td>\n",
       "      <td>charles arnoldi</td>\n",
       "      <td>american</td>\n",
       "      <td>m</td>\n",
       "      <td>1946.0</td>\n",
       "      <td>NaN</td>\n",
       "      <td>white</td>\n",
       "    </tr>\n",
       "    <tr>\n",
       "      <th>4</th>\n",
       "      <td>5</td>\n",
       "      <td>per arnoldi</td>\n",
       "      <td>danish</td>\n",
       "      <td>m</td>\n",
       "      <td>1941.0</td>\n",
       "      <td>NaN</td>\n",
       "      <td>white</td>\n",
       "    </tr>\n",
       "  </tbody>\n",
       "</table>\n",
       "</div>"
      ],
      "text/plain": [
       "   artist_id         fullname nationality gender  birth_year  death_year  \\\n",
       "0          1   robert arneson    american      m      1930.0      1992.0   \n",
       "1          2   doroteo arnaiz     spanish      m      1936.0         NaN   \n",
       "2          3      bill arnold    american      m      1941.0         NaN   \n",
       "3          4  charles arnoldi    american      m      1946.0         NaN   \n",
       "4          5      per arnoldi      danish      m      1941.0         NaN   \n",
       "\n",
       "       race  \n",
       "0     white  \n",
       "1  hispanic  \n",
       "2     white  \n",
       "3     white  \n",
       "4     white  "
      ]
     },
     "execution_count": 30,
     "metadata": {},
     "output_type": "execute_result"
    }
   ],
   "source": [
    "artists_df.head()"
   ]
  },
  {
   "cell_type": "code",
   "execution_count": 31,
   "metadata": {},
   "outputs": [
    {
     "data": {
      "text/plain": [
       "<matplotlib.axes._subplots.AxesSubplot at 0x7f20e546a438>"
      ]
     },
     "execution_count": 31,
     "metadata": {},
     "output_type": "execute_result"
    },
    {
     "data": {
      "image/png": "[encoded data removed]",
      "text/plain": [
       "<matplotlib.figure.Figure at 0x7f20e54aa9e8>"
      ]
     },
     "metadata": {},
     "output_type": "display_data"
    }
   ],
   "source": [
    "artists_df['race'].value_counts(dropna=False).plot(kind='bar')"
   ]
  },
  {
   "cell_type": "markdown",
   "metadata": {},
   "source": [
    "#### lastname_race_df and artists_df join results:\n",
    "Over 2000 artists could not be associated with a race/ethnicity. \n",
    "\n",
    "This command can be used to view the rows where race could not be found\n",
    "```python\n",
    "artists_df[pd.isnull(artists_df['race'])]\n",
    "```\n",
    "\n",
    "I think there are likely two reasons that certain rows could not be associated with a race/ethnicity. \n",
    "1. The artist is an artist group, and so no results would have matched\n",
    "2. The artist is of a non-american nationality - given that the census data with the mapping of lastnames to race/ethnicity was of US born persons, it is likely that the names couldn't match because they are names not common or not seen in the US.\n",
    "\n",
    "Hence, we must be aware of the bias of this join. If we assume that the proportion of white-to-non-white in the US is significantly larger than the proportion of white-to-non-white in the world-minus-the-US, then the 2nd of the above two reasons will mean that the a large proportion of the **NaN** are non-white artists."
   ]
  },
  {
   "cell_type": "markdown",
   "metadata": {},
   "source": [
    "### Join artists_df with firstname_gender_df"
   ]
  },
  {
   "cell_type": "code",
   "execution_count": 32,
   "metadata": {
    "collapsed": true
   },
   "outputs": [],
   "source": [
    "# set first name to index for quick look up\n",
    "firstname_gender_df = firstname_gender_df.set_index('firstname', drop=True)"
   ]
  },
  {
   "cell_type": "code",
   "execution_count": 33,
   "metadata": {},
   "outputs": [
    {
     "data": {
      "text/plain": [
       "m      9826\n",
       "NaN    3072\n",
       "f      2193\n",
       "Name: gender, dtype: int64"
      ]
     },
     "execution_count": 33,
     "metadata": {},
     "output_type": "execute_result"
    }
   ],
   "source": [
    "# check how many nan values there currently are in the gender column\n",
    "artists_df['gender'].value_counts(dropna=False)"
   ]
  },
  {
   "cell_type": "code",
   "execution_count": 34,
   "metadata": {
    "collapsed": true
   },
   "outputs": [],
   "source": [
    "def merge_firstname_gender_df(name, checkOriginal):\n",
    "    \n",
    "    if checkOriginal:\n",
    "        condition = (artists_df['fullname'] == name)\n",
    "        if artists_df[condition]['gender'].iloc[0] is not np.nan:\n",
    "            return artists_df[condition]['gender'].iloc[0]\n",
    "        \n",
    "    if name is None or len(name) <= 1:\n",
    "        return None\n",
    "\n",
    "    split_array = name.split(' ', 1)\n",
    "    first = split_array[0]\n",
    "    remaining = None\n",
    "\n",
    "    if len(split_array) > 1:\n",
    "        remaining = split_array[1]\n",
    "\n",
    "    try:\n",
    "        return firstname_gender_df.loc[first].gender\n",
    "    except Exception as e:\n",
    "        return merge_firstname_gender_df(remaining, False)\n",
    "\n",
    "artists_df['gender'] = artists_df['fullname'] \\\n",
    "        .apply(lambda x: merge_firstname_gender_df(x, True))"
   ]
  },
  {
   "cell_type": "code",
   "execution_count": 35,
   "metadata": {},
   "outputs": [
    {
     "name": "stdout",
     "output_type": "stream",
     "text": [
      "m      11078\n",
      "f       2900\n",
      "NaN     1113\n",
      "Name: gender, dtype: int64\n"
     ]
    },
    {
     "data": {
      "text/plain": [
       "<matplotlib.axes._subplots.AxesSubplot at 0x7f20e623bcf8>"
      ]
     },
     "execution_count": 35,
     "metadata": {},
     "output_type": "execute_result"
    },
    {
     "data": {
      "image/png": "[encoded data removed]",
      "text/plain": [
       "<matplotlib.figure.Figure at 0x7f20e61e8400>"
      ]
     },
     "metadata": {},
     "output_type": "display_data"
    }
   ],
   "source": [
    "print(artists_df['gender'].value_counts(dropna=False))\n",
    "artists_df['gender'].value_counts(dropna=False).plot(kind='bar')"
   ]
  },
  {
   "cell_type": "markdown",
   "metadata": {},
   "source": [
    "#### firstname_gender_df and artists_df join results:\n",
    "After joining our artist data with our firstname_gender_df data, the number of **NaN** genders reduced from 2193 to 1113."
   ]
  },
  {
   "cell_type": "markdown",
   "metadata": {},
   "source": [
    "### Finalize artists_df:"
   ]
  },
  {
   "cell_type": "markdown",
   "metadata": {},
   "source": [
    "For this exercise, we're primarily interested in looking at how nationality, gender and race plays into the MoMA's collection. To reduce there data, I will remove the **birth_year** and **death_year** columns."
   ]
  },
  {
   "cell_type": "code",
   "execution_count": 36,
   "metadata": {
    "collapsed": true
   },
   "outputs": [],
   "source": [
    "artists_df = artists_df.drop(['birth_year', 'death_year'], axis=1)"
   ]
  },
  {
   "cell_type": "code",
   "execution_count": 37,
   "metadata": {},
   "outputs": [
    {
     "data": {
      "text/html": [
       "<div>\n",
       "<table border=\"1\" class=\"dataframe\">\n",
       "  <thead>\n",
       "    <tr style=\"text-align: right;\">\n",
       "      <th></th>\n",
       "      <th>artist_id</th>\n",
       "      <th>fullname</th>\n",
       "      <th>nationality</th>\n",
       "      <th>gender</th>\n",
       "      <th>race</th>\n",
       "    </tr>\n",
       "  </thead>\n",
       "  <tbody>\n",
       "    <tr>\n",
       "      <th>0</th>\n",
       "      <td>1</td>\n",
       "      <td>robert arneson</td>\n",
       "      <td>american</td>\n",
       "      <td>m</td>\n",
       "      <td>white</td>\n",
       "    </tr>\n",
       "    <tr>\n",
       "      <th>1</th>\n",
       "      <td>2</td>\n",
       "      <td>doroteo arnaiz</td>\n",
       "      <td>spanish</td>\n",
       "      <td>m</td>\n",
       "      <td>hispanic</td>\n",
       "    </tr>\n",
       "    <tr>\n",
       "      <th>2</th>\n",
       "      <td>3</td>\n",
       "      <td>bill arnold</td>\n",
       "      <td>american</td>\n",
       "      <td>m</td>\n",
       "      <td>white</td>\n",
       "    </tr>\n",
       "    <tr>\n",
       "      <th>3</th>\n",
       "      <td>4</td>\n",
       "      <td>charles arnoldi</td>\n",
       "      <td>american</td>\n",
       "      <td>m</td>\n",
       "      <td>white</td>\n",
       "    </tr>\n",
       "    <tr>\n",
       "      <th>4</th>\n",
       "      <td>5</td>\n",
       "      <td>per arnoldi</td>\n",
       "      <td>danish</td>\n",
       "      <td>m</td>\n",
       "      <td>white</td>\n",
       "    </tr>\n",
       "  </tbody>\n",
       "</table>\n",
       "</div>"
      ],
      "text/plain": [
       "   artist_id         fullname nationality gender      race\n",
       "0          1   robert arneson    american      m     white\n",
       "1          2   doroteo arnaiz     spanish      m  hispanic\n",
       "2          3      bill arnold    american      m     white\n",
       "3          4  charles arnoldi    american      m     white\n",
       "4          5      per arnoldi      danish      m     white"
      ]
     },
     "execution_count": 37,
     "metadata": {},
     "output_type": "execute_result"
    }
   ],
   "source": [
    "artists_df.head()"
   ]
  },
  {
   "cell_type": "markdown",
   "metadata": {},
   "source": [
    "### Join artists and artworks dataset:"
   ]
  },
  {
   "cell_type": "code",
   "execution_count": 38,
   "metadata": {
    "collapsed": true
   },
   "outputs": [],
   "source": [
    "artworks = pd.read_csv(\"data/artworks.csv\")"
   ]
  },
  {
   "cell_type": "code",
   "execution_count": 39,
   "metadata": {},
   "outputs": [
    {
     "name": "stdout",
     "output_type": "stream",
     "text": [
      "(130262, 21)\n"
     ]
    },
    {
     "data": {
      "text/html": [
       "<div>\n",
       "<table border=\"1\" class=\"dataframe\">\n",
       "  <thead>\n",
       "    <tr style=\"text-align: right;\">\n",
       "      <th></th>\n",
       "      <th>Artwork ID</th>\n",
       "      <th>Title</th>\n",
       "      <th>Artist ID</th>\n",
       "      <th>Name</th>\n",
       "      <th>Date</th>\n",
       "      <th>Medium</th>\n",
       "      <th>Dimensions</th>\n",
       "      <th>Acquisition Date</th>\n",
       "      <th>Credit</th>\n",
       "      <th>Catalogue</th>\n",
       "      <th>...</th>\n",
       "      <th>Classification</th>\n",
       "      <th>Object Number</th>\n",
       "      <th>Diameter (cm)</th>\n",
       "      <th>Circumference (cm)</th>\n",
       "      <th>Height (cm)</th>\n",
       "      <th>Length (cm)</th>\n",
       "      <th>Width (cm)</th>\n",
       "      <th>Depth (cm)</th>\n",
       "      <th>Weight (kg)</th>\n",
       "      <th>Duration (s)</th>\n",
       "    </tr>\n",
       "  </thead>\n",
       "  <tbody>\n",
       "    <tr>\n",
       "      <th>0</th>\n",
       "      <td>2</td>\n",
       "      <td>Ferdinandsbrücke Project, Vienna, Austria, Ele...</td>\n",
       "      <td>6210</td>\n",
       "      <td>Otto Wagner</td>\n",
       "      <td>1896</td>\n",
       "      <td>Ink and cut-and-pasted painted pages on paper</td>\n",
       "      <td>19 1/8 x 66 1/2\" (48.6 x 168.9 cm)</td>\n",
       "      <td>1996-04-09</td>\n",
       "      <td>Fractional and promised gift of Jo Carole and ...</td>\n",
       "      <td>Y</td>\n",
       "      <td>...</td>\n",
       "      <td>Architecture</td>\n",
       "      <td>885.1996</td>\n",
       "      <td>NaN</td>\n",
       "      <td>NaN</td>\n",
       "      <td>48.6000</td>\n",
       "      <td>NaN</td>\n",
       "      <td>168.9000</td>\n",
       "      <td>NaN</td>\n",
       "      <td>NaN</td>\n",
       "      <td>NaN</td>\n",
       "    </tr>\n",
       "    <tr>\n",
       "      <th>1</th>\n",
       "      <td>3</td>\n",
       "      <td>City of Music, National Superior Conservatory ...</td>\n",
       "      <td>7470</td>\n",
       "      <td>Christian de Portzamparc</td>\n",
       "      <td>1987</td>\n",
       "      <td>Paint and colored pencil on print</td>\n",
       "      <td>16 x 11 3/4\" (40.6 x 29.8 cm)</td>\n",
       "      <td>1995-01-17</td>\n",
       "      <td>Gift of the architect in honor of Lily Auchinc...</td>\n",
       "      <td>Y</td>\n",
       "      <td>...</td>\n",
       "      <td>Architecture</td>\n",
       "      <td>1.1995</td>\n",
       "      <td>NaN</td>\n",
       "      <td>NaN</td>\n",
       "      <td>40.6401</td>\n",
       "      <td>NaN</td>\n",
       "      <td>29.8451</td>\n",
       "      <td>NaN</td>\n",
       "      <td>NaN</td>\n",
       "      <td>NaN</td>\n",
       "    </tr>\n",
       "    <tr>\n",
       "      <th>2</th>\n",
       "      <td>4</td>\n",
       "      <td>Villa near Vienna Project, Outside Vienna, Aus...</td>\n",
       "      <td>7605</td>\n",
       "      <td>Emil Hoppe</td>\n",
       "      <td>1903</td>\n",
       "      <td>Graphite, pen, color pencil, ink, and gouache ...</td>\n",
       "      <td>13 1/2 x 12 1/2\" (34.3 x 31.8 cm)</td>\n",
       "      <td>1997-01-15</td>\n",
       "      <td>Gift of Jo Carole and Ronald S. Lauder</td>\n",
       "      <td>Y</td>\n",
       "      <td>...</td>\n",
       "      <td>Architecture</td>\n",
       "      <td>1.1997</td>\n",
       "      <td>NaN</td>\n",
       "      <td>NaN</td>\n",
       "      <td>34.3000</td>\n",
       "      <td>NaN</td>\n",
       "      <td>31.8000</td>\n",
       "      <td>NaN</td>\n",
       "      <td>NaN</td>\n",
       "      <td>NaN</td>\n",
       "    </tr>\n",
       "    <tr>\n",
       "      <th>3</th>\n",
       "      <td>5</td>\n",
       "      <td>The Manhattan Transcripts Project, New York, N...</td>\n",
       "      <td>7056</td>\n",
       "      <td>Bernard Tschumi</td>\n",
       "      <td>1980</td>\n",
       "      <td>Photographic reproduction with colored synthet...</td>\n",
       "      <td>20 x 20\" (50.8 x 50.8 cm)</td>\n",
       "      <td>1995-01-17</td>\n",
       "      <td>Purchase and partial gift of the architect in ...</td>\n",
       "      <td>Y</td>\n",
       "      <td>...</td>\n",
       "      <td>Architecture</td>\n",
       "      <td>2.1995</td>\n",
       "      <td>NaN</td>\n",
       "      <td>NaN</td>\n",
       "      <td>50.8000</td>\n",
       "      <td>NaN</td>\n",
       "      <td>50.8000</td>\n",
       "      <td>NaN</td>\n",
       "      <td>NaN</td>\n",
       "      <td>NaN</td>\n",
       "    </tr>\n",
       "    <tr>\n",
       "      <th>4</th>\n",
       "      <td>6</td>\n",
       "      <td>Villa, project, outside Vienna, Austria, Exter...</td>\n",
       "      <td>7605</td>\n",
       "      <td>Emil Hoppe</td>\n",
       "      <td>1903</td>\n",
       "      <td>Graphite, color pencil, ink, and gouache on tr...</td>\n",
       "      <td>15 1/8 x 7 1/2\" (38.4 x 19.1 cm)</td>\n",
       "      <td>1997-01-15</td>\n",
       "      <td>Gift of Jo Carole and Ronald S. Lauder</td>\n",
       "      <td>Y</td>\n",
       "      <td>...</td>\n",
       "      <td>Architecture</td>\n",
       "      <td>2.1997</td>\n",
       "      <td>NaN</td>\n",
       "      <td>NaN</td>\n",
       "      <td>38.4000</td>\n",
       "      <td>NaN</td>\n",
       "      <td>19.1000</td>\n",
       "      <td>NaN</td>\n",
       "      <td>NaN</td>\n",
       "      <td>NaN</td>\n",
       "    </tr>\n",
       "  </tbody>\n",
       "</table>\n",
       "<p>5 rows × 21 columns</p>\n",
       "</div>"
      ],
      "text/plain": [
       "   Artwork ID                                              Title Artist ID  \\\n",
       "0           2  Ferdinandsbrücke Project, Vienna, Austria, Ele...      6210   \n",
       "1           3  City of Music, National Superior Conservatory ...      7470   \n",
       "2           4  Villa near Vienna Project, Outside Vienna, Aus...      7605   \n",
       "3           5  The Manhattan Transcripts Project, New York, N...      7056   \n",
       "4           6  Villa, project, outside Vienna, Austria, Exter...      7605   \n",
       "\n",
       "                       Name  Date  \\\n",
       "0               Otto Wagner  1896   \n",
       "1  Christian de Portzamparc  1987   \n",
       "2                Emil Hoppe  1903   \n",
       "3           Bernard Tschumi  1980   \n",
       "4                Emil Hoppe  1903   \n",
       "\n",
       "                                              Medium  \\\n",
       "0      Ink and cut-and-pasted painted pages on paper   \n",
       "1                  Paint and colored pencil on print   \n",
       "2  Graphite, pen, color pencil, ink, and gouache ...   \n",
       "3  Photographic reproduction with colored synthet...   \n",
       "4  Graphite, color pencil, ink, and gouache on tr...   \n",
       "\n",
       "                           Dimensions Acquisition Date  \\\n",
       "0  19 1/8 x 66 1/2\" (48.6 x 168.9 cm)       1996-04-09   \n",
       "1       16 x 11 3/4\" (40.6 x 29.8 cm)       1995-01-17   \n",
       "2   13 1/2 x 12 1/2\" (34.3 x 31.8 cm)       1997-01-15   \n",
       "3           20 x 20\" (50.8 x 50.8 cm)       1995-01-17   \n",
       "4    15 1/8 x 7 1/2\" (38.4 x 19.1 cm)       1997-01-15   \n",
       "\n",
       "                                              Credit Catalogue      ...       \\\n",
       "0  Fractional and promised gift of Jo Carole and ...         Y      ...        \n",
       "1  Gift of the architect in honor of Lily Auchinc...         Y      ...        \n",
       "2             Gift of Jo Carole and Ronald S. Lauder         Y      ...        \n",
       "3  Purchase and partial gift of the architect in ...         Y      ...        \n",
       "4             Gift of Jo Carole and Ronald S. Lauder         Y      ...        \n",
       "\n",
       "  Classification Object Number Diameter (cm)  Circumference (cm)  Height (cm)  \\\n",
       "0   Architecture      885.1996           NaN                 NaN      48.6000   \n",
       "1   Architecture        1.1995           NaN                 NaN      40.6401   \n",
       "2   Architecture        1.1997           NaN                 NaN      34.3000   \n",
       "3   Architecture        2.1995           NaN                 NaN      50.8000   \n",
       "4   Architecture        2.1997           NaN                 NaN      38.4000   \n",
       "\n",
       "   Length (cm)  Width (cm)  Depth (cm)  Weight (kg)  Duration (s)  \n",
       "0          NaN    168.9000         NaN          NaN           NaN  \n",
       "1          NaN     29.8451         NaN          NaN           NaN  \n",
       "2          NaN     31.8000         NaN          NaN           NaN  \n",
       "3          NaN     50.8000         NaN          NaN           NaN  \n",
       "4          NaN     19.1000         NaN          NaN           NaN  \n",
       "\n",
       "[5 rows x 21 columns]"
      ]
     },
     "execution_count": 39,
     "metadata": {},
     "output_type": "execute_result"
    }
   ],
   "source": [
    "print(artworks.shape)\n",
    "artworks.head()"
   ]
  },
  {
   "cell_type": "markdown",
   "metadata": {},
   "source": [
    "Lets rename the column names for convenience:\n",
    "\n",
    "| Original | New |\n",
    "| :------- | :-- |\n",
    "| Artwork ID | artwork_id |\n",
    "| Title | title |\n",
    "| Artists ID | artist_id |\n",
    "| Name | name |\n",
    "| Date | creation_date |\n",
    "| Medium | medium |\n",
    "| Dimensions | dimensions |\n",
    "| Acquisition Date | acquisition_date |\n",
    "| Credit | credit |\n",
    "| Catalogue | catalogue | \n",
    "| Department | department |\n",
    "| Classification | classification |\n",
    "| Object Number | object_number |\n",
    "| Diameter (cm) | diameter | \n",
    "| Circumference (cm) | circumference |\n",
    "| Height (cm) | height |\n",
    "| Length (cm) | length | \n",
    "| Width (cm) | width | \n",
    "| Depth (cm) | depth |\n",
    "| Weight (kg) | weight |\n",
    "| Duration (s) | duration |"
   ]
  },
  {
   "cell_type": "code",
   "execution_count": 40,
   "metadata": {
    "collapsed": true
   },
   "outputs": [],
   "source": [
    "artworks.columns = ['artwork_id', 'title', 'artist_id', 'name', 'creation_date', 'medium', 'dimensions', 'acquisition_date', 'credit', 'catalogue', 'department', 'classification', 'object_number', 'diameter', 'circumference', 'height', 'length', 'width', 'depth', 'weight', 'duration']"
   ]
  },
  {
   "cell_type": "markdown",
   "metadata": {},
   "source": [
    "It looks like we can have multiple artists_ids per row. For now, lets just pick the first in the list."
   ]
  },
  {
   "cell_type": "code",
   "execution_count": 41,
   "metadata": {
    "collapsed": true
   },
   "outputs": [],
   "source": [
    "# change dtype of artist_id to int\n",
    "artworks['artist_id'] = artworks['artist_id'].apply(lambda x: str(x).split(',')[0])"
   ]
  },
  {
   "cell_type": "code",
   "execution_count": 42,
   "metadata": {},
   "outputs": [
    {
     "data": {
      "text/html": [
       "<div>\n",
       "<table border=\"1\" class=\"dataframe\">\n",
       "  <thead>\n",
       "    <tr style=\"text-align: right;\">\n",
       "      <th></th>\n",
       "      <th>artwork_id</th>\n",
       "      <th>title</th>\n",
       "      <th>artist_id</th>\n",
       "      <th>name</th>\n",
       "      <th>creation_date</th>\n",
       "      <th>medium</th>\n",
       "      <th>dimensions</th>\n",
       "      <th>acquisition_date</th>\n",
       "      <th>credit</th>\n",
       "      <th>catalogue</th>\n",
       "      <th>...</th>\n",
       "      <th>classification</th>\n",
       "      <th>object_number</th>\n",
       "      <th>diameter</th>\n",
       "      <th>circumference</th>\n",
       "      <th>height</th>\n",
       "      <th>length</th>\n",
       "      <th>width</th>\n",
       "      <th>depth</th>\n",
       "      <th>weight</th>\n",
       "      <th>duration</th>\n",
       "    </tr>\n",
       "  </thead>\n",
       "  <tbody>\n",
       "    <tr>\n",
       "      <th>0</th>\n",
       "      <td>2</td>\n",
       "      <td>Ferdinandsbrücke Project, Vienna, Austria, Ele...</td>\n",
       "      <td>6210</td>\n",
       "      <td>Otto Wagner</td>\n",
       "      <td>1896</td>\n",
       "      <td>Ink and cut-and-pasted painted pages on paper</td>\n",
       "      <td>19 1/8 x 66 1/2\" (48.6 x 168.9 cm)</td>\n",
       "      <td>1996-04-09</td>\n",
       "      <td>Fractional and promised gift of Jo Carole and ...</td>\n",
       "      <td>Y</td>\n",
       "      <td>...</td>\n",
       "      <td>Architecture</td>\n",
       "      <td>885.1996</td>\n",
       "      <td>NaN</td>\n",
       "      <td>NaN</td>\n",
       "      <td>48.6000</td>\n",
       "      <td>NaN</td>\n",
       "      <td>168.9000</td>\n",
       "      <td>NaN</td>\n",
       "      <td>NaN</td>\n",
       "      <td>NaN</td>\n",
       "    </tr>\n",
       "    <tr>\n",
       "      <th>1</th>\n",
       "      <td>3</td>\n",
       "      <td>City of Music, National Superior Conservatory ...</td>\n",
       "      <td>7470</td>\n",
       "      <td>Christian de Portzamparc</td>\n",
       "      <td>1987</td>\n",
       "      <td>Paint and colored pencil on print</td>\n",
       "      <td>16 x 11 3/4\" (40.6 x 29.8 cm)</td>\n",
       "      <td>1995-01-17</td>\n",
       "      <td>Gift of the architect in honor of Lily Auchinc...</td>\n",
       "      <td>Y</td>\n",
       "      <td>...</td>\n",
       "      <td>Architecture</td>\n",
       "      <td>1.1995</td>\n",
       "      <td>NaN</td>\n",
       "      <td>NaN</td>\n",
       "      <td>40.6401</td>\n",
       "      <td>NaN</td>\n",
       "      <td>29.8451</td>\n",
       "      <td>NaN</td>\n",
       "      <td>NaN</td>\n",
       "      <td>NaN</td>\n",
       "    </tr>\n",
       "    <tr>\n",
       "      <th>2</th>\n",
       "      <td>4</td>\n",
       "      <td>Villa near Vienna Project, Outside Vienna, Aus...</td>\n",
       "      <td>7605</td>\n",
       "      <td>Emil Hoppe</td>\n",
       "      <td>1903</td>\n",
       "      <td>Graphite, pen, color pencil, ink, and gouache ...</td>\n",
       "      <td>13 1/2 x 12 1/2\" (34.3 x 31.8 cm)</td>\n",
       "      <td>1997-01-15</td>\n",
       "      <td>Gift of Jo Carole and Ronald S. Lauder</td>\n",
       "      <td>Y</td>\n",
       "      <td>...</td>\n",
       "      <td>Architecture</td>\n",
       "      <td>1.1997</td>\n",
       "      <td>NaN</td>\n",
       "      <td>NaN</td>\n",
       "      <td>34.3000</td>\n",
       "      <td>NaN</td>\n",
       "      <td>31.8000</td>\n",
       "      <td>NaN</td>\n",
       "      <td>NaN</td>\n",
       "      <td>NaN</td>\n",
       "    </tr>\n",
       "    <tr>\n",
       "      <th>3</th>\n",
       "      <td>5</td>\n",
       "      <td>The Manhattan Transcripts Project, New York, N...</td>\n",
       "      <td>7056</td>\n",
       "      <td>Bernard Tschumi</td>\n",
       "      <td>1980</td>\n",
       "      <td>Photographic reproduction with colored synthet...</td>\n",
       "      <td>20 x 20\" (50.8 x 50.8 cm)</td>\n",
       "      <td>1995-01-17</td>\n",
       "      <td>Purchase and partial gift of the architect in ...</td>\n",
       "      <td>Y</td>\n",
       "      <td>...</td>\n",
       "      <td>Architecture</td>\n",
       "      <td>2.1995</td>\n",
       "      <td>NaN</td>\n",
       "      <td>NaN</td>\n",
       "      <td>50.8000</td>\n",
       "      <td>NaN</td>\n",
       "      <td>50.8000</td>\n",
       "      <td>NaN</td>\n",
       "      <td>NaN</td>\n",
       "      <td>NaN</td>\n",
       "    </tr>\n",
       "    <tr>\n",
       "      <th>4</th>\n",
       "      <td>6</td>\n",
       "      <td>Villa, project, outside Vienna, Austria, Exter...</td>\n",
       "      <td>7605</td>\n",
       "      <td>Emil Hoppe</td>\n",
       "      <td>1903</td>\n",
       "      <td>Graphite, color pencil, ink, and gouache on tr...</td>\n",
       "      <td>15 1/8 x 7 1/2\" (38.4 x 19.1 cm)</td>\n",
       "      <td>1997-01-15</td>\n",
       "      <td>Gift of Jo Carole and Ronald S. Lauder</td>\n",
       "      <td>Y</td>\n",
       "      <td>...</td>\n",
       "      <td>Architecture</td>\n",
       "      <td>2.1997</td>\n",
       "      <td>NaN</td>\n",
       "      <td>NaN</td>\n",
       "      <td>38.4000</td>\n",
       "      <td>NaN</td>\n",
       "      <td>19.1000</td>\n",
       "      <td>NaN</td>\n",
       "      <td>NaN</td>\n",
       "      <td>NaN</td>\n",
       "    </tr>\n",
       "  </tbody>\n",
       "</table>\n",
       "<p>5 rows × 21 columns</p>\n",
       "</div>"
      ],
      "text/plain": [
       "   artwork_id                                              title artist_id  \\\n",
       "0           2  Ferdinandsbrücke Project, Vienna, Austria, Ele...      6210   \n",
       "1           3  City of Music, National Superior Conservatory ...      7470   \n",
       "2           4  Villa near Vienna Project, Outside Vienna, Aus...      7605   \n",
       "3           5  The Manhattan Transcripts Project, New York, N...      7056   \n",
       "4           6  Villa, project, outside Vienna, Austria, Exter...      7605   \n",
       "\n",
       "                       name creation_date  \\\n",
       "0               Otto Wagner          1896   \n",
       "1  Christian de Portzamparc          1987   \n",
       "2                Emil Hoppe          1903   \n",
       "3           Bernard Tschumi          1980   \n",
       "4                Emil Hoppe          1903   \n",
       "\n",
       "                                              medium  \\\n",
       "0      Ink and cut-and-pasted painted pages on paper   \n",
       "1                  Paint and colored pencil on print   \n",
       "2  Graphite, pen, color pencil, ink, and gouache ...   \n",
       "3  Photographic reproduction with colored synthet...   \n",
       "4  Graphite, color pencil, ink, and gouache on tr...   \n",
       "\n",
       "                           dimensions acquisition_date  \\\n",
       "0  19 1/8 x 66 1/2\" (48.6 x 168.9 cm)       1996-04-09   \n",
       "1       16 x 11 3/4\" (40.6 x 29.8 cm)       1995-01-17   \n",
       "2   13 1/2 x 12 1/2\" (34.3 x 31.8 cm)       1997-01-15   \n",
       "3           20 x 20\" (50.8 x 50.8 cm)       1995-01-17   \n",
       "4    15 1/8 x 7 1/2\" (38.4 x 19.1 cm)       1997-01-15   \n",
       "\n",
       "                                              credit catalogue    ...     \\\n",
       "0  Fractional and promised gift of Jo Carole and ...         Y    ...      \n",
       "1  Gift of the architect in honor of Lily Auchinc...         Y    ...      \n",
       "2             Gift of Jo Carole and Ronald S. Lauder         Y    ...      \n",
       "3  Purchase and partial gift of the architect in ...         Y    ...      \n",
       "4             Gift of Jo Carole and Ronald S. Lauder         Y    ...      \n",
       "\n",
       "  classification object_number diameter  circumference   height  length  \\\n",
       "0   Architecture      885.1996      NaN            NaN  48.6000     NaN   \n",
       "1   Architecture        1.1995      NaN            NaN  40.6401     NaN   \n",
       "2   Architecture        1.1997      NaN            NaN  34.3000     NaN   \n",
       "3   Architecture        2.1995      NaN            NaN  50.8000     NaN   \n",
       "4   Architecture        2.1997      NaN            NaN  38.4000     NaN   \n",
       "\n",
       "      width  depth  weight  duration  \n",
       "0  168.9000    NaN     NaN       NaN  \n",
       "1   29.8451    NaN     NaN       NaN  \n",
       "2   31.8000    NaN     NaN       NaN  \n",
       "3   50.8000    NaN     NaN       NaN  \n",
       "4   19.1000    NaN     NaN       NaN  \n",
       "\n",
       "[5 rows x 21 columns]"
      ]
     },
     "execution_count": 42,
     "metadata": {},
     "output_type": "execute_result"
    }
   ],
   "source": [
    "artworks.head()"
   ]
  },
  {
   "cell_type": "markdown",
   "metadata": {},
   "source": [
    "#### Remove rows where *Date* or *Acquisition Date* is invalid"
   ]
  },
  {
   "cell_type": "code",
   "execution_count": 43,
   "metadata": {},
   "outputs": [
    {
     "data": {
      "text/plain": [
       "(127954, 21)"
      ]
     },
     "execution_count": 43,
     "metadata": {},
     "output_type": "execute_result"
    }
   ],
   "source": [
    "# drop rows where 'Date' is NaN\n",
    "artworks = artworks.dropna(subset=['creation_date'])\n",
    "artworks.shape"
   ]
  },
  {
   "cell_type": "code",
   "execution_count": 44,
   "metadata": {},
   "outputs": [
    {
     "data": {
      "text/plain": [
       "(126811, 21)"
      ]
     },
     "execution_count": 44,
     "metadata": {},
     "output_type": "execute_result"
    }
   ],
   "source": [
    "# for values in 'Date', if there is a year, choose the first occurance of the year, else, drop the row\n",
    "import re\n",
    "artworks['creation_date'] = artworks['creation_date'] \\\n",
    "    .map(lambda x: int(re.search('[1-2][0-9][0-9][0-9]', x).group(0)) if re.search('[1-2][0-9][0-9][0-9]', x) else None)\n",
    "artworks = artworks.dropna(subset=['creation_date'])\n",
    "artworks.shape"
   ]
  },
  {
   "cell_type": "code",
   "execution_count": 45,
   "metadata": {},
   "outputs": [
    {
     "data": {
      "text/plain": [
       "(121475, 21)"
      ]
     },
     "execution_count": 45,
     "metadata": {},
     "output_type": "execute_result"
    }
   ],
   "source": [
    "# drop rows where 'Acquisition Date' is NaN\n",
    "artworks = artworks.dropna(subset=['acquisition_date'])\n",
    "artworks.shape"
   ]
  },
  {
   "cell_type": "code",
   "execution_count": 46,
   "metadata": {},
   "outputs": [
    {
     "data": {
      "text/plain": [
       "(120665, 21)"
      ]
     },
     "execution_count": 46,
     "metadata": {},
     "output_type": "execute_result"
    }
   ],
   "source": [
    "# drop rows where 'artist_id' is NaN\n",
    "artworks = artworks.drop(artworks[artworks['artist_id'].astype(str) == 'nan'].index)\n",
    "artworks.shape"
   ]
  },
  {
   "cell_type": "code",
   "execution_count": 47,
   "metadata": {},
   "outputs": [
    {
     "data": {
      "text/html": [
       "<div>\n",
       "<table border=\"1\" class=\"dataframe\">\n",
       "  <thead>\n",
       "    <tr style=\"text-align: right;\">\n",
       "      <th></th>\n",
       "      <th>artwork_id</th>\n",
       "      <th>title</th>\n",
       "      <th>artist_id</th>\n",
       "      <th>name</th>\n",
       "      <th>creation_date</th>\n",
       "      <th>medium</th>\n",
       "      <th>dimensions</th>\n",
       "      <th>acquisition_date</th>\n",
       "      <th>credit</th>\n",
       "      <th>catalogue</th>\n",
       "      <th>...</th>\n",
       "      <th>classification</th>\n",
       "      <th>object_number</th>\n",
       "      <th>diameter</th>\n",
       "      <th>circumference</th>\n",
       "      <th>height</th>\n",
       "      <th>length</th>\n",
       "      <th>width</th>\n",
       "      <th>depth</th>\n",
       "      <th>weight</th>\n",
       "      <th>duration</th>\n",
       "    </tr>\n",
       "  </thead>\n",
       "  <tbody>\n",
       "    <tr>\n",
       "      <th>0</th>\n",
       "      <td>2</td>\n",
       "      <td>Ferdinandsbrücke Project, Vienna, Austria, Ele...</td>\n",
       "      <td>6210</td>\n",
       "      <td>Otto Wagner</td>\n",
       "      <td>1896.0</td>\n",
       "      <td>Ink and cut-and-pasted painted pages on paper</td>\n",
       "      <td>19 1/8 x 66 1/2\" (48.6 x 168.9 cm)</td>\n",
       "      <td>1996-04-09</td>\n",
       "      <td>Fractional and promised gift of Jo Carole and ...</td>\n",
       "      <td>Y</td>\n",
       "      <td>...</td>\n",
       "      <td>Architecture</td>\n",
       "      <td>885.1996</td>\n",
       "      <td>NaN</td>\n",
       "      <td>NaN</td>\n",
       "      <td>48.6000</td>\n",
       "      <td>NaN</td>\n",
       "      <td>168.9000</td>\n",
       "      <td>NaN</td>\n",
       "      <td>NaN</td>\n",
       "      <td>NaN</td>\n",
       "    </tr>\n",
       "    <tr>\n",
       "      <th>1</th>\n",
       "      <td>3</td>\n",
       "      <td>City of Music, National Superior Conservatory ...</td>\n",
       "      <td>7470</td>\n",
       "      <td>Christian de Portzamparc</td>\n",
       "      <td>1987.0</td>\n",
       "      <td>Paint and colored pencil on print</td>\n",
       "      <td>16 x 11 3/4\" (40.6 x 29.8 cm)</td>\n",
       "      <td>1995-01-17</td>\n",
       "      <td>Gift of the architect in honor of Lily Auchinc...</td>\n",
       "      <td>Y</td>\n",
       "      <td>...</td>\n",
       "      <td>Architecture</td>\n",
       "      <td>1.1995</td>\n",
       "      <td>NaN</td>\n",
       "      <td>NaN</td>\n",
       "      <td>40.6401</td>\n",
       "      <td>NaN</td>\n",
       "      <td>29.8451</td>\n",
       "      <td>NaN</td>\n",
       "      <td>NaN</td>\n",
       "      <td>NaN</td>\n",
       "    </tr>\n",
       "    <tr>\n",
       "      <th>2</th>\n",
       "      <td>4</td>\n",
       "      <td>Villa near Vienna Project, Outside Vienna, Aus...</td>\n",
       "      <td>7605</td>\n",
       "      <td>Emil Hoppe</td>\n",
       "      <td>1903.0</td>\n",
       "      <td>Graphite, pen, color pencil, ink, and gouache ...</td>\n",
       "      <td>13 1/2 x 12 1/2\" (34.3 x 31.8 cm)</td>\n",
       "      <td>1997-01-15</td>\n",
       "      <td>Gift of Jo Carole and Ronald S. Lauder</td>\n",
       "      <td>Y</td>\n",
       "      <td>...</td>\n",
       "      <td>Architecture</td>\n",
       "      <td>1.1997</td>\n",
       "      <td>NaN</td>\n",
       "      <td>NaN</td>\n",
       "      <td>34.3000</td>\n",
       "      <td>NaN</td>\n",
       "      <td>31.8000</td>\n",
       "      <td>NaN</td>\n",
       "      <td>NaN</td>\n",
       "      <td>NaN</td>\n",
       "    </tr>\n",
       "    <tr>\n",
       "      <th>3</th>\n",
       "      <td>5</td>\n",
       "      <td>The Manhattan Transcripts Project, New York, N...</td>\n",
       "      <td>7056</td>\n",
       "      <td>Bernard Tschumi</td>\n",
       "      <td>1980.0</td>\n",
       "      <td>Photographic reproduction with colored synthet...</td>\n",
       "      <td>20 x 20\" (50.8 x 50.8 cm)</td>\n",
       "      <td>1995-01-17</td>\n",
       "      <td>Purchase and partial gift of the architect in ...</td>\n",
       "      <td>Y</td>\n",
       "      <td>...</td>\n",
       "      <td>Architecture</td>\n",
       "      <td>2.1995</td>\n",
       "      <td>NaN</td>\n",
       "      <td>NaN</td>\n",
       "      <td>50.8000</td>\n",
       "      <td>NaN</td>\n",
       "      <td>50.8000</td>\n",
       "      <td>NaN</td>\n",
       "      <td>NaN</td>\n",
       "      <td>NaN</td>\n",
       "    </tr>\n",
       "    <tr>\n",
       "      <th>4</th>\n",
       "      <td>6</td>\n",
       "      <td>Villa, project, outside Vienna, Austria, Exter...</td>\n",
       "      <td>7605</td>\n",
       "      <td>Emil Hoppe</td>\n",
       "      <td>1903.0</td>\n",
       "      <td>Graphite, color pencil, ink, and gouache on tr...</td>\n",
       "      <td>15 1/8 x 7 1/2\" (38.4 x 19.1 cm)</td>\n",
       "      <td>1997-01-15</td>\n",
       "      <td>Gift of Jo Carole and Ronald S. Lauder</td>\n",
       "      <td>Y</td>\n",
       "      <td>...</td>\n",
       "      <td>Architecture</td>\n",
       "      <td>2.1997</td>\n",
       "      <td>NaN</td>\n",
       "      <td>NaN</td>\n",
       "      <td>38.4000</td>\n",
       "      <td>NaN</td>\n",
       "      <td>19.1000</td>\n",
       "      <td>NaN</td>\n",
       "      <td>NaN</td>\n",
       "      <td>NaN</td>\n",
       "    </tr>\n",
       "  </tbody>\n",
       "</table>\n",
       "<p>5 rows × 21 columns</p>\n",
       "</div>"
      ],
      "text/plain": [
       "   artwork_id                                              title artist_id  \\\n",
       "0           2  Ferdinandsbrücke Project, Vienna, Austria, Ele...      6210   \n",
       "1           3  City of Music, National Superior Conservatory ...      7470   \n",
       "2           4  Villa near Vienna Project, Outside Vienna, Aus...      7605   \n",
       "3           5  The Manhattan Transcripts Project, New York, N...      7056   \n",
       "4           6  Villa, project, outside Vienna, Austria, Exter...      7605   \n",
       "\n",
       "                       name  creation_date  \\\n",
       "0               Otto Wagner         1896.0   \n",
       "1  Christian de Portzamparc         1987.0   \n",
       "2                Emil Hoppe         1903.0   \n",
       "3           Bernard Tschumi         1980.0   \n",
       "4                Emil Hoppe         1903.0   \n",
       "\n",
       "                                              medium  \\\n",
       "0      Ink and cut-and-pasted painted pages on paper   \n",
       "1                  Paint and colored pencil on print   \n",
       "2  Graphite, pen, color pencil, ink, and gouache ...   \n",
       "3  Photographic reproduction with colored synthet...   \n",
       "4  Graphite, color pencil, ink, and gouache on tr...   \n",
       "\n",
       "                           dimensions acquisition_date  \\\n",
       "0  19 1/8 x 66 1/2\" (48.6 x 168.9 cm)       1996-04-09   \n",
       "1       16 x 11 3/4\" (40.6 x 29.8 cm)       1995-01-17   \n",
       "2   13 1/2 x 12 1/2\" (34.3 x 31.8 cm)       1997-01-15   \n",
       "3           20 x 20\" (50.8 x 50.8 cm)       1995-01-17   \n",
       "4    15 1/8 x 7 1/2\" (38.4 x 19.1 cm)       1997-01-15   \n",
       "\n",
       "                                              credit catalogue    ...     \\\n",
       "0  Fractional and promised gift of Jo Carole and ...         Y    ...      \n",
       "1  Gift of the architect in honor of Lily Auchinc...         Y    ...      \n",
       "2             Gift of Jo Carole and Ronald S. Lauder         Y    ...      \n",
       "3  Purchase and partial gift of the architect in ...         Y    ...      \n",
       "4             Gift of Jo Carole and Ronald S. Lauder         Y    ...      \n",
       "\n",
       "  classification object_number diameter  circumference   height  length  \\\n",
       "0   Architecture      885.1996      NaN            NaN  48.6000     NaN   \n",
       "1   Architecture        1.1995      NaN            NaN  40.6401     NaN   \n",
       "2   Architecture        1.1997      NaN            NaN  34.3000     NaN   \n",
       "3   Architecture        2.1995      NaN            NaN  50.8000     NaN   \n",
       "4   Architecture        2.1997      NaN            NaN  38.4000     NaN   \n",
       "\n",
       "      width  depth  weight  duration  \n",
       "0  168.9000    NaN     NaN       NaN  \n",
       "1   29.8451    NaN     NaN       NaN  \n",
       "2   31.8000    NaN     NaN       NaN  \n",
       "3   50.8000    NaN     NaN       NaN  \n",
       "4   19.1000    NaN     NaN       NaN  \n",
       "\n",
       "[5 rows x 21 columns]"
      ]
     },
     "execution_count": 47,
     "metadata": {},
     "output_type": "execute_result"
    }
   ],
   "source": [
    "artworks_df = artworks\n",
    "artworks_df.head()"
   ]
  },
  {
   "cell_type": "markdown",
   "metadata": {},
   "source": [
    "Join **artworks_df** with **artists_df** on **artist_id**"
   ]
  },
  {
   "cell_type": "code",
   "execution_count": 48,
   "metadata": {
    "collapsed": true
   },
   "outputs": [],
   "source": [
    "artworks_df['artist_id'] = artworks_df['artist_id'].astype(int)"
   ]
  },
  {
   "cell_type": "code",
   "execution_count": 49,
   "metadata": {
    "collapsed": true
   },
   "outputs": [],
   "source": [
    "merged = pd.merge(artworks_df, artists_df, how='left', on=['artist_id'])"
   ]
  },
  {
   "cell_type": "code",
   "execution_count": 50,
   "metadata": {},
   "outputs": [
    {
     "data": {
      "text/html": [
       "<div>\n",
       "<table border=\"1\" class=\"dataframe\">\n",
       "  <thead>\n",
       "    <tr style=\"text-align: right;\">\n",
       "      <th></th>\n",
       "      <th>artwork_id</th>\n",
       "      <th>title</th>\n",
       "      <th>artist_id</th>\n",
       "      <th>name</th>\n",
       "      <th>creation_date</th>\n",
       "      <th>medium</th>\n",
       "      <th>dimensions</th>\n",
       "      <th>acquisition_date</th>\n",
       "      <th>credit</th>\n",
       "      <th>catalogue</th>\n",
       "      <th>...</th>\n",
       "      <th>height</th>\n",
       "      <th>length</th>\n",
       "      <th>width</th>\n",
       "      <th>depth</th>\n",
       "      <th>weight</th>\n",
       "      <th>duration</th>\n",
       "      <th>fullname</th>\n",
       "      <th>nationality</th>\n",
       "      <th>gender</th>\n",
       "      <th>race</th>\n",
       "    </tr>\n",
       "  </thead>\n",
       "  <tbody>\n",
       "    <tr>\n",
       "      <th>0</th>\n",
       "      <td>2</td>\n",
       "      <td>Ferdinandsbrücke Project, Vienna, Austria, Ele...</td>\n",
       "      <td>6210</td>\n",
       "      <td>Otto Wagner</td>\n",
       "      <td>1896.0</td>\n",
       "      <td>Ink and cut-and-pasted painted pages on paper</td>\n",
       "      <td>19 1/8 x 66 1/2\" (48.6 x 168.9 cm)</td>\n",
       "      <td>1996-04-09</td>\n",
       "      <td>Fractional and promised gift of Jo Carole and ...</td>\n",
       "      <td>Y</td>\n",
       "      <td>...</td>\n",
       "      <td>48.6000</td>\n",
       "      <td>NaN</td>\n",
       "      <td>168.9000</td>\n",
       "      <td>NaN</td>\n",
       "      <td>NaN</td>\n",
       "      <td>NaN</td>\n",
       "      <td>otto wagner</td>\n",
       "      <td>austrian</td>\n",
       "      <td>m</td>\n",
       "      <td>white</td>\n",
       "    </tr>\n",
       "    <tr>\n",
       "      <th>1</th>\n",
       "      <td>3</td>\n",
       "      <td>City of Music, National Superior Conservatory ...</td>\n",
       "      <td>7470</td>\n",
       "      <td>Christian de Portzamparc</td>\n",
       "      <td>1987.0</td>\n",
       "      <td>Paint and colored pencil on print</td>\n",
       "      <td>16 x 11 3/4\" (40.6 x 29.8 cm)</td>\n",
       "      <td>1995-01-17</td>\n",
       "      <td>Gift of the architect in honor of Lily Auchinc...</td>\n",
       "      <td>Y</td>\n",
       "      <td>...</td>\n",
       "      <td>40.6401</td>\n",
       "      <td>NaN</td>\n",
       "      <td>29.8451</td>\n",
       "      <td>NaN</td>\n",
       "      <td>NaN</td>\n",
       "      <td>NaN</td>\n",
       "      <td>christian de portzamparc</td>\n",
       "      <td>french</td>\n",
       "      <td>m</td>\n",
       "      <td>asian</td>\n",
       "    </tr>\n",
       "    <tr>\n",
       "      <th>2</th>\n",
       "      <td>4</td>\n",
       "      <td>Villa near Vienna Project, Outside Vienna, Aus...</td>\n",
       "      <td>7605</td>\n",
       "      <td>Emil Hoppe</td>\n",
       "      <td>1903.0</td>\n",
       "      <td>Graphite, pen, color pencil, ink, and gouache ...</td>\n",
       "      <td>13 1/2 x 12 1/2\" (34.3 x 31.8 cm)</td>\n",
       "      <td>1997-01-15</td>\n",
       "      <td>Gift of Jo Carole and Ronald S. Lauder</td>\n",
       "      <td>Y</td>\n",
       "      <td>...</td>\n",
       "      <td>34.3000</td>\n",
       "      <td>NaN</td>\n",
       "      <td>31.8000</td>\n",
       "      <td>NaN</td>\n",
       "      <td>NaN</td>\n",
       "      <td>NaN</td>\n",
       "      <td>emil hoppe</td>\n",
       "      <td>austrian</td>\n",
       "      <td>m</td>\n",
       "      <td>white</td>\n",
       "    </tr>\n",
       "    <tr>\n",
       "      <th>3</th>\n",
       "      <td>5</td>\n",
       "      <td>The Manhattan Transcripts Project, New York, N...</td>\n",
       "      <td>7056</td>\n",
       "      <td>Bernard Tschumi</td>\n",
       "      <td>1980.0</td>\n",
       "      <td>Photographic reproduction with colored synthet...</td>\n",
       "      <td>20 x 20\" (50.8 x 50.8 cm)</td>\n",
       "      <td>1995-01-17</td>\n",
       "      <td>Purchase and partial gift of the architect in ...</td>\n",
       "      <td>Y</td>\n",
       "      <td>...</td>\n",
       "      <td>50.8000</td>\n",
       "      <td>NaN</td>\n",
       "      <td>50.8000</td>\n",
       "      <td>NaN</td>\n",
       "      <td>NaN</td>\n",
       "      <td>NaN</td>\n",
       "      <td>bernard tschumi</td>\n",
       "      <td>NaN</td>\n",
       "      <td>m</td>\n",
       "      <td>white</td>\n",
       "    </tr>\n",
       "    <tr>\n",
       "      <th>4</th>\n",
       "      <td>6</td>\n",
       "      <td>Villa, project, outside Vienna, Austria, Exter...</td>\n",
       "      <td>7605</td>\n",
       "      <td>Emil Hoppe</td>\n",
       "      <td>1903.0</td>\n",
       "      <td>Graphite, color pencil, ink, and gouache on tr...</td>\n",
       "      <td>15 1/8 x 7 1/2\" (38.4 x 19.1 cm)</td>\n",
       "      <td>1997-01-15</td>\n",
       "      <td>Gift of Jo Carole and Ronald S. Lauder</td>\n",
       "      <td>Y</td>\n",
       "      <td>...</td>\n",
       "      <td>38.4000</td>\n",
       "      <td>NaN</td>\n",
       "      <td>19.1000</td>\n",
       "      <td>NaN</td>\n",
       "      <td>NaN</td>\n",
       "      <td>NaN</td>\n",
       "      <td>emil hoppe</td>\n",
       "      <td>austrian</td>\n",
       "      <td>m</td>\n",
       "      <td>white</td>\n",
       "    </tr>\n",
       "  </tbody>\n",
       "</table>\n",
       "<p>5 rows × 25 columns</p>\n",
       "</div>"
      ],
      "text/plain": [
       "   artwork_id                                              title  artist_id  \\\n",
       "0           2  Ferdinandsbrücke Project, Vienna, Austria, Ele...       6210   \n",
       "1           3  City of Music, National Superior Conservatory ...       7470   \n",
       "2           4  Villa near Vienna Project, Outside Vienna, Aus...       7605   \n",
       "3           5  The Manhattan Transcripts Project, New York, N...       7056   \n",
       "4           6  Villa, project, outside Vienna, Austria, Exter...       7605   \n",
       "\n",
       "                       name  creation_date  \\\n",
       "0               Otto Wagner         1896.0   \n",
       "1  Christian de Portzamparc         1987.0   \n",
       "2                Emil Hoppe         1903.0   \n",
       "3           Bernard Tschumi         1980.0   \n",
       "4                Emil Hoppe         1903.0   \n",
       "\n",
       "                                              medium  \\\n",
       "0      Ink and cut-and-pasted painted pages on paper   \n",
       "1                  Paint and colored pencil on print   \n",
       "2  Graphite, pen, color pencil, ink, and gouache ...   \n",
       "3  Photographic reproduction with colored synthet...   \n",
       "4  Graphite, color pencil, ink, and gouache on tr...   \n",
       "\n",
       "                           dimensions acquisition_date  \\\n",
       "0  19 1/8 x 66 1/2\" (48.6 x 168.9 cm)       1996-04-09   \n",
       "1       16 x 11 3/4\" (40.6 x 29.8 cm)       1995-01-17   \n",
       "2   13 1/2 x 12 1/2\" (34.3 x 31.8 cm)       1997-01-15   \n",
       "3           20 x 20\" (50.8 x 50.8 cm)       1995-01-17   \n",
       "4    15 1/8 x 7 1/2\" (38.4 x 19.1 cm)       1997-01-15   \n",
       "\n",
       "                                              credit catalogue  ...    \\\n",
       "0  Fractional and promised gift of Jo Carole and ...         Y  ...     \n",
       "1  Gift of the architect in honor of Lily Auchinc...         Y  ...     \n",
       "2             Gift of Jo Carole and Ronald S. Lauder         Y  ...     \n",
       "3  Purchase and partial gift of the architect in ...         Y  ...     \n",
       "4             Gift of Jo Carole and Ronald S. Lauder         Y  ...     \n",
       "\n",
       "    height length     width  depth  weight  duration  \\\n",
       "0  48.6000    NaN  168.9000    NaN     NaN       NaN   \n",
       "1  40.6401    NaN   29.8451    NaN     NaN       NaN   \n",
       "2  34.3000    NaN   31.8000    NaN     NaN       NaN   \n",
       "3  50.8000    NaN   50.8000    NaN     NaN       NaN   \n",
       "4  38.4000    NaN   19.1000    NaN     NaN       NaN   \n",
       "\n",
       "                   fullname  nationality  gender   race  \n",
       "0               otto wagner     austrian       m  white  \n",
       "1  christian de portzamparc       french       m  asian  \n",
       "2                emil hoppe     austrian       m  white  \n",
       "3           bernard tschumi          NaN       m  white  \n",
       "4                emil hoppe     austrian       m  white  \n",
       "\n",
       "[5 rows x 25 columns]"
      ]
     },
     "execution_count": 50,
     "metadata": {},
     "output_type": "execute_result"
    }
   ],
   "source": [
    "merged.head()"
   ]
  },
  {
   "cell_type": "code",
   "execution_count": 51,
   "metadata": {
    "collapsed": true
   },
   "outputs": [],
   "source": [
    "merged.to_csv(\"./data/merged.csv\")"
   ]
  }
 ],
 "metadata": {
  "kernelspec": {
   "display_name": "Python 3",
   "language": "python",
   "name": "python3"
  },
  "language_info": {
   "codemirror_mode": {
    "name": "ipython",
    "version": 3
   },
   "file_extension": ".py",
   "mimetype": "text/x-python",
   "name": "python",
   "nbconvert_exporter": "python",
   "pygments_lexer": "ipython3",
   "version": "3.5.2"
  }
 },
 "nbformat": 4,
 "nbformat_minor": 2
}
