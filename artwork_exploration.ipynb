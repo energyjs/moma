{
 "cells": [
  {
   "cell_type": "code",
   "execution_count": 1,
   "metadata": {
    "collapsed": true
   },
   "outputs": [],
   "source": [
    "import pandas as pd\n",
    "import numpy as np\n",
    "import matplotlib.pyplot as plt\n",
    "%matplotlib inline"
   ]
  },
  {
   "cell_type": "code",
   "execution_count": 2,
   "metadata": {},
   "outputs": [
    {
     "name": "stdout",
     "output_type": "stream",
     "text": [
      "(130262, 21)\n"
     ]
    },
    {
     "data": {
      "text/html": [
       "<div>\n",
       "<table border=\"1\" class=\"dataframe\">\n",
       "  <thead>\n",
       "    <tr style=\"text-align: right;\">\n",
       "      <th></th>\n",
       "      <th>Artwork ID</th>\n",
       "      <th>Title</th>\n",
       "      <th>Artist ID</th>\n",
       "      <th>Name</th>\n",
       "      <th>Date</th>\n",
       "      <th>Medium</th>\n",
       "      <th>Dimensions</th>\n",
       "      <th>Acquisition Date</th>\n",
       "      <th>Credit</th>\n",
       "      <th>Catalogue</th>\n",
       "      <th>...</th>\n",
       "      <th>Classification</th>\n",
       "      <th>Object Number</th>\n",
       "      <th>Diameter (cm)</th>\n",
       "      <th>Circumference (cm)</th>\n",
       "      <th>Height (cm)</th>\n",
       "      <th>Length (cm)</th>\n",
       "      <th>Width (cm)</th>\n",
       "      <th>Depth (cm)</th>\n",
       "      <th>Weight (kg)</th>\n",
       "      <th>Duration (s)</th>\n",
       "    </tr>\n",
       "  </thead>\n",
       "  <tbody>\n",
       "    <tr>\n",
       "      <th>0</th>\n",
       "      <td>2</td>\n",
       "      <td>Ferdinandsbrücke Project, Vienna, Austria, Ele...</td>\n",
       "      <td>6210</td>\n",
       "      <td>Otto Wagner</td>\n",
       "      <td>1896</td>\n",
       "      <td>Ink and cut-and-pasted painted pages on paper</td>\n",
       "      <td>19 1/8 x 66 1/2\" (48.6 x 168.9 cm)</td>\n",
       "      <td>1996-04-09</td>\n",
       "      <td>Fractional and promised gift of Jo Carole and ...</td>\n",
       "      <td>Y</td>\n",
       "      <td>...</td>\n",
       "      <td>Architecture</td>\n",
       "      <td>885.1996</td>\n",
       "      <td>NaN</td>\n",
       "      <td>NaN</td>\n",
       "      <td>48.6000</td>\n",
       "      <td>NaN</td>\n",
       "      <td>168.9000</td>\n",
       "      <td>NaN</td>\n",
       "      <td>NaN</td>\n",
       "      <td>NaN</td>\n",
       "    </tr>\n",
       "    <tr>\n",
       "      <th>1</th>\n",
       "      <td>3</td>\n",
       "      <td>City of Music, National Superior Conservatory ...</td>\n",
       "      <td>7470</td>\n",
       "      <td>Christian de Portzamparc</td>\n",
       "      <td>1987</td>\n",
       "      <td>Paint and colored pencil on print</td>\n",
       "      <td>16 x 11 3/4\" (40.6 x 29.8 cm)</td>\n",
       "      <td>1995-01-17</td>\n",
       "      <td>Gift of the architect in honor of Lily Auchinc...</td>\n",
       "      <td>Y</td>\n",
       "      <td>...</td>\n",
       "      <td>Architecture</td>\n",
       "      <td>1.1995</td>\n",
       "      <td>NaN</td>\n",
       "      <td>NaN</td>\n",
       "      <td>40.6401</td>\n",
       "      <td>NaN</td>\n",
       "      <td>29.8451</td>\n",
       "      <td>NaN</td>\n",
       "      <td>NaN</td>\n",
       "      <td>NaN</td>\n",
       "    </tr>\n",
       "    <tr>\n",
       "      <th>2</th>\n",
       "      <td>4</td>\n",
       "      <td>Villa near Vienna Project, Outside Vienna, Aus...</td>\n",
       "      <td>7605</td>\n",
       "      <td>Emil Hoppe</td>\n",
       "      <td>1903</td>\n",
       "      <td>Graphite, pen, color pencil, ink, and gouache ...</td>\n",
       "      <td>13 1/2 x 12 1/2\" (34.3 x 31.8 cm)</td>\n",
       "      <td>1997-01-15</td>\n",
       "      <td>Gift of Jo Carole and Ronald S. Lauder</td>\n",
       "      <td>Y</td>\n",
       "      <td>...</td>\n",
       "      <td>Architecture</td>\n",
       "      <td>1.1997</td>\n",
       "      <td>NaN</td>\n",
       "      <td>NaN</td>\n",
       "      <td>34.3000</td>\n",
       "      <td>NaN</td>\n",
       "      <td>31.8000</td>\n",
       "      <td>NaN</td>\n",
       "      <td>NaN</td>\n",
       "      <td>NaN</td>\n",
       "    </tr>\n",
       "    <tr>\n",
       "      <th>3</th>\n",
       "      <td>5</td>\n",
       "      <td>The Manhattan Transcripts Project, New York, N...</td>\n",
       "      <td>7056</td>\n",
       "      <td>Bernard Tschumi</td>\n",
       "      <td>1980</td>\n",
       "      <td>Photographic reproduction with colored synthet...</td>\n",
       "      <td>20 x 20\" (50.8 x 50.8 cm)</td>\n",
       "      <td>1995-01-17</td>\n",
       "      <td>Purchase and partial gift of the architect in ...</td>\n",
       "      <td>Y</td>\n",
       "      <td>...</td>\n",
       "      <td>Architecture</td>\n",
       "      <td>2.1995</td>\n",
       "      <td>NaN</td>\n",
       "      <td>NaN</td>\n",
       "      <td>50.8000</td>\n",
       "      <td>NaN</td>\n",
       "      <td>50.8000</td>\n",
       "      <td>NaN</td>\n",
       "      <td>NaN</td>\n",
       "      <td>NaN</td>\n",
       "    </tr>\n",
       "    <tr>\n",
       "      <th>4</th>\n",
       "      <td>6</td>\n",
       "      <td>Villa, project, outside Vienna, Austria, Exter...</td>\n",
       "      <td>7605</td>\n",
       "      <td>Emil Hoppe</td>\n",
       "      <td>1903</td>\n",
       "      <td>Graphite, color pencil, ink, and gouache on tr...</td>\n",
       "      <td>15 1/8 x 7 1/2\" (38.4 x 19.1 cm)</td>\n",
       "      <td>1997-01-15</td>\n",
       "      <td>Gift of Jo Carole and Ronald S. Lauder</td>\n",
       "      <td>Y</td>\n",
       "      <td>...</td>\n",
       "      <td>Architecture</td>\n",
       "      <td>2.1997</td>\n",
       "      <td>NaN</td>\n",
       "      <td>NaN</td>\n",
       "      <td>38.4000</td>\n",
       "      <td>NaN</td>\n",
       "      <td>19.1000</td>\n",
       "      <td>NaN</td>\n",
       "      <td>NaN</td>\n",
       "      <td>NaN</td>\n",
       "    </tr>\n",
       "  </tbody>\n",
       "</table>\n",
       "<p>5 rows × 21 columns</p>\n",
       "</div>"
      ],
      "text/plain": [
       "   Artwork ID                                              Title Artist ID  \\\n",
       "0           2  Ferdinandsbrücke Project, Vienna, Austria, Ele...      6210   \n",
       "1           3  City of Music, National Superior Conservatory ...      7470   \n",
       "2           4  Villa near Vienna Project, Outside Vienna, Aus...      7605   \n",
       "3           5  The Manhattan Transcripts Project, New York, N...      7056   \n",
       "4           6  Villa, project, outside Vienna, Austria, Exter...      7605   \n",
       "\n",
       "                       Name  Date  \\\n",
       "0               Otto Wagner  1896   \n",
       "1  Christian de Portzamparc  1987   \n",
       "2                Emil Hoppe  1903   \n",
       "3           Bernard Tschumi  1980   \n",
       "4                Emil Hoppe  1903   \n",
       "\n",
       "                                              Medium  \\\n",
       "0      Ink and cut-and-pasted painted pages on paper   \n",
       "1                  Paint and colored pencil on print   \n",
       "2  Graphite, pen, color pencil, ink, and gouache ...   \n",
       "3  Photographic reproduction with colored synthet...   \n",
       "4  Graphite, color pencil, ink, and gouache on tr...   \n",
       "\n",
       "                           Dimensions Acquisition Date  \\\n",
       "0  19 1/8 x 66 1/2\" (48.6 x 168.9 cm)       1996-04-09   \n",
       "1       16 x 11 3/4\" (40.6 x 29.8 cm)       1995-01-17   \n",
       "2   13 1/2 x 12 1/2\" (34.3 x 31.8 cm)       1997-01-15   \n",
       "3           20 x 20\" (50.8 x 50.8 cm)       1995-01-17   \n",
       "4    15 1/8 x 7 1/2\" (38.4 x 19.1 cm)       1997-01-15   \n",
       "\n",
       "                                              Credit Catalogue      ...       \\\n",
       "0  Fractional and promised gift of Jo Carole and ...         Y      ...        \n",
       "1  Gift of the architect in honor of Lily Auchinc...         Y      ...        \n",
       "2             Gift of Jo Carole and Ronald S. Lauder         Y      ...        \n",
       "3  Purchase and partial gift of the architect in ...         Y      ...        \n",
       "4             Gift of Jo Carole and Ronald S. Lauder         Y      ...        \n",
       "\n",
       "  Classification Object Number Diameter (cm)  Circumference (cm)  Height (cm)  \\\n",
       "0   Architecture      885.1996           NaN                 NaN      48.6000   \n",
       "1   Architecture        1.1995           NaN                 NaN      40.6401   \n",
       "2   Architecture        1.1997           NaN                 NaN      34.3000   \n",
       "3   Architecture        2.1995           NaN                 NaN      50.8000   \n",
       "4   Architecture        2.1997           NaN                 NaN      38.4000   \n",
       "\n",
       "   Length (cm)  Width (cm)  Depth (cm)  Weight (kg)  Duration (s)  \n",
       "0          NaN    168.9000         NaN          NaN           NaN  \n",
       "1          NaN     29.8451         NaN          NaN           NaN  \n",
       "2          NaN     31.8000         NaN          NaN           NaN  \n",
       "3          NaN     50.8000         NaN          NaN           NaN  \n",
       "4          NaN     19.1000         NaN          NaN           NaN  \n",
       "\n",
       "[5 rows x 21 columns]"
      ]
     },
     "execution_count": 2,
     "metadata": {},
     "output_type": "execute_result"
    }
   ],
   "source": [
    "artworks = pd.read_csv(\"artworks.csv\")\n",
    "print(artworks.shape)\n",
    "artworks.head()"
   ]
  },
  {
   "cell_type": "markdown",
   "metadata": {},
   "source": [
    "### Remove rows where *Date* or *Acquisition Date* is invalid"
   ]
  },
  {
   "cell_type": "code",
   "execution_count": 3,
   "metadata": {},
   "outputs": [
    {
     "data": {
      "text/plain": [
       "(127954, 21)"
      ]
     },
     "execution_count": 3,
     "metadata": {},
     "output_type": "execute_result"
    }
   ],
   "source": [
    "# drop rows where 'Date' is NaN\n",
    "artworks = artworks.dropna(subset=['Date'])\n",
    "artworks.shape"
   ]
  },
  {
   "cell_type": "code",
   "execution_count": 4,
   "metadata": {},
   "outputs": [
    {
     "data": {
      "text/plain": [
       "(126811, 21)"
      ]
     },
     "execution_count": 4,
     "metadata": {},
     "output_type": "execute_result"
    }
   ],
   "source": [
    "# for values in 'Date', if there is a year, choose the first occurance of the year, else, drop the row\n",
    "import re\n",
    "artworks['Date'] = artworks['Date'] \\\n",
    "    .map(lambda x: int(re.search('[1-2][0-9][0-9][0-9]', x).group(0)) if re.search('[1-2][0-9][0-9][0-9]', x) else None)\n",
    "artworks = artworks.dropna(subset=['Date'])\n",
    "artworks.shape"
   ]
  },
  {
   "cell_type": "code",
   "execution_count": 5,
   "metadata": {},
   "outputs": [
    {
     "data": {
      "text/plain": [
       "(121475, 21)"
      ]
     },
     "execution_count": 5,
     "metadata": {},
     "output_type": "execute_result"
    }
   ],
   "source": [
    "# drop rows where 'Acquisition Date' is NaN\n",
    "artworks = artworks.dropna(subset=['Acquisition Date'])\n",
    "artworks.shape"
   ]
  },
  {
   "cell_type": "markdown",
   "metadata": {},
   "source": [
    "### Visualize distribution of *dates* & *acquisition dates*"
   ]
  },
  {
   "cell_type": "code",
   "execution_count": 6,
   "metadata": {},
   "outputs": [
    {
     "data": {
      "text/plain": [
       "<matplotlib.axes._subplots.AxesSubplot at 0x7fd54cb8a3c8>"
      ]
     },
     "execution_count": 6,
     "metadata": {},
     "output_type": "execute_result"
    },
    {
     "data": {
      "image/png": "[encoded data removed]",
      "text/plain": [
       "<matplotlib.figure.Figure at 0x7fd54cb63da0>"
      ]
     },
     "metadata": {},
     "output_type": "display_data"
    }
   ],
   "source": [
    "fig = plt.figure(figsize=(16,6))\n",
    "\n",
    "ax1 = fig.add_subplot(121)\n",
    "ax1.set_xlabel(\"10 most popular artwork dates\")\n",
    "ax1.set_ylabel(\"number of artworks\")\n",
    "artworks['Date'].value_counts().head(10).plot(kind='bar', ax=ax1)\n",
    "\n",
    "ax2 = fig.add_subplot(122)\n",
    "ax2.set_xlabel(\"most popular artwork dates\")\n",
    "ax2.set_ylabel(\"number of artworks\")\n",
    "artworks['Date'].hist(bins=20)"
   ]
  },
  {
   "cell_type": "code",
   "execution_count": 7,
   "metadata": {
    "collapsed": true
   },
   "outputs": [],
   "source": [
    "# just use the year of acquisition date and convert to int\n",
    "artworks['Acquisition Date'] = artworks['Acquisition Date'].map(lambda x: int(str(x)[:4]))"
   ]
  },
  {
   "cell_type": "code",
   "execution_count": 8,
   "metadata": {},
   "outputs": [
    {
     "data": {
      "text/plain": [
       "<matplotlib.axes._subplots.AxesSubplot at 0x7fd54cb63e10>"
      ]
     },
     "execution_count": 8,
     "metadata": {},
     "output_type": "execute_result"
    },
    {
     "data": {
      "image/png": "[encoded data removed]",
      "text/plain": [
       "<matplotlib.figure.Figure at 0x7fd54cabcb38>"
      ]
     },
     "metadata": {},
     "output_type": "display_data"
    }
   ],
   "source": [
    "fig = plt.figure(figsize=(16,6))\n",
    "\n",
    "ax1 = fig.add_subplot(121)\n",
    "ax1.set_xlabel(\"10 most popular artwork dates\")\n",
    "ax1.set_ylabel(\"number of artworks\")\n",
    "artworks['Acquisition Date'].value_counts().head(10).plot(kind='bar', ax=ax1)\n",
    "\n",
    "ax2 = fig.add_subplot(122)\n",
    "ax2.set_xlabel(\"most popular artwork dates\")\n",
    "ax2.set_ylabel(\"number of artworks\")\n",
    "artworks['Acquisition Date'].hist(bins=20)"
   ]
  },
  {
   "cell_type": "markdown",
   "metadata": {},
   "source": [
    "### Explore Classification of artworks"
   ]
  },
  {
   "cell_type": "code",
   "execution_count": 9,
   "metadata": {},
   "outputs": [
    {
     "data": {
      "text/plain": [
       "<matplotlib.axes._subplots.AxesSubplot at 0x7fd54ca3da20>"
      ]
     },
     "execution_count": 9,
     "metadata": {},
     "output_type": "execute_result"
    },
    {
     "data": {
      "image/png": "[encoded data removed]",
      "text/plain": [
       "<matplotlib.figure.Figure at 0x7fd57417bdd8>"
      ]
     },
     "metadata": {},
     "output_type": "display_data"
    }
   ],
   "source": [
    "artworks['Classification'].value_counts().plot(kind='bar', figsize=(12,6))"
   ]
  }
 ],
 "metadata": {
  "kernelspec": {
   "display_name": "Python 3",
   "language": "python",
   "name": "python3"
  },
  "language_info": {
   "codemirror_mode": {
    "name": "ipython",
    "version": 3
   },
   "file_extension": ".py",
   "mimetype": "text/x-python",
   "name": "python",
   "nbconvert_exporter": "python",
   "pygments_lexer": "ipython3",
   "version": "3.5.2"
  }
 },
 "nbformat": 4,
 "nbformat_minor": 2
}
